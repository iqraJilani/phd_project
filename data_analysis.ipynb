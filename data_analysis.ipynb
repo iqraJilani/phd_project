{
 "cells": [
  {
   "cell_type": "code",
   "execution_count": 1,
   "metadata": {},
   "outputs": [],
   "source": [
    "# %%\n",
    "import copy\n",
    "from datetime import datetime\n",
    "import math\n",
    "import matplotlib.pyplot as plt\n",
    "import numpy as np\n",
    "import pandas as pd\n",
    "import pickle\n",
    "import random\n",
    "import time\n",
    "import wandb"
   ]
  },
  {
   "cell_type": "code",
   "execution_count": 9,
   "metadata": {},
   "outputs": [],
   "source": [
    "# import numpy as np\n",
    "# import matplotlib.pyplot as plt\n",
    "\n",
    "# # Parameters for the example\n",
    "# start_prob_increase = 0.1\n",
    "# end_prob_increase = 0.9\n",
    "# total_generations = 100\n",
    "\n",
    "# # Linear increase\n",
    "# def linear_increase(start_prob, end_prob, current_gen, total_gens):\n",
    "#     return start_prob + (current_gen / total_gens) * (end_prob - start_prob)\n",
    "\n",
    "# # Exponential increase\n",
    "# def exponential_increase(start_prob, end_prob, current_gen, total_gens):\n",
    "#     return start_prob * (end_prob / start_prob) ** (current_gen / total_gens)\n",
    "\n",
    "# # Generate data for increasing probabilities\n",
    "# generations = np.arange(total_generations)\n",
    "# linear_probs_increase = [linear_increase(start_prob_increase, end_prob_increase, gen, total_generations) for gen in generations]\n",
    "# exponential_probs_increase = [exponential_increase(start_prob_increase, end_prob_increase, gen, total_generations) for gen in generations]\n",
    "\n",
    "# # Plotting the graphs\n",
    "# plt.figure(figsize=(12, 6))\n",
    "\n",
    "# # Linear increase plot\n",
    "# plt.subplot(1, 2, 1)\n",
    "# plt.plot(generations, linear_probs_increase, label='Linear Increase')\n",
    "# plt.xlabel('Generations')\n",
    "# plt.ylabel('Probability')\n",
    "# plt.title('Linear Increase of Probability')\n",
    "# plt.legend()\n",
    "\n",
    "# # Exponential increase plot\n",
    "# plt.subplot(1, 2, 2)\n",
    "# plt.plot(generations, exponential_probs_increase, label='Exponential Increase', color='red')\n",
    "# plt.xlabel('Generations')\n",
    "# plt.ylabel('Probability')\n",
    "# plt.title('Exponential Increase of Probability')\n",
    "# plt.legend()\n",
    "\n",
    "# plt.tight_layout()\n",
    "# plt.show()\n"
   ]
  },
  {
   "cell_type": "code",
   "execution_count": 7,
   "metadata": {},
   "outputs": [],
   "source": [
    "\n",
    "\n",
    "\n",
    "# now = datetime.now()\n",
    "# scenario = \"scenario_2\"\n",
    "# run_name = f\"{scenario}_analytics\"\n",
    "# current_datetime =now.strftime(\"%d/%b/%Y_%H:%M:%S\")\n",
    "# run_name = \"_\".join([run_name, current_datetime])\n",
    "\n",
    "# wandb.login(\n",
    "#     key=\"a9cbb8af7a708fc893fe0aaf2f50d9e51aed6f34\"\n",
    "# )\n",
    "# wb = wandb.init(\n",
    "#     project = \"GA_Parameter_Tuning\",\n",
    "#     name = run_name,\n",
    "#     config ={\n",
    "#         \"scenario\": scenario\n",
    "#     }, \n",
    "#     allow_val_change=True)\n",
    "\n",
    "\n",
    "# wb.define_metric(\"day_num\")\n",
    "# wb.define_metric(\"demand_per_day\", step_metric=\"day_num\")\n",
    "# wb.define_metric(\"energy_avail_per_day\", step_metric=\"day_num\")"
   ]
  },
  {
   "cell_type": "code",
   "execution_count": 2,
   "metadata": {},
   "outputs": [],
   "source": [
    "WEEK_ONE_SLOTS = 168\n",
    "WEEK_TWO_SLOTS = 336\n",
    "DAY_SLOT = 24"
   ]
  },
  {
   "cell_type": "code",
   "execution_count": 11,
   "metadata": {},
   "outputs": [],
   "source": [
    "s1_demand = list()\n",
    "s2_demand = list()\n",
    "s3_demand = list()\n",
    "s4_demand = list()\n",
    "s5_demand = list()\n",
    "energy = list()"
   ]
  },
  {
   "cell_type": "code",
   "execution_count": 12,
   "metadata": {},
   "outputs": [
    {
     "name": "stderr",
     "output_type": "stream",
     "text": [
      "/tmp/ipykernel_2235/1873214006.py:1: FutureWarning: Your version of xlrd is 1.2.0. In xlrd >= 2.0, only the xls format is supported. As a result, the openpyxl engine will be used if it is installed and the engine argument is not specified. Install openpyxl instead.\n",
      "  data = pd.read_excel('./data/data.xlsx', 'scenario_2_training')  # energy usage data\n",
      "/tmp/ipykernel_2235/1873214006.py:2: SettingWithCopyWarning: \n",
      "A value is trying to be set on a copy of a slice from a DataFrame\n",
      "\n",
      "See the caveats in the documentation: https://pandas.pydata.org/pandas-docs/stable/user_guide/indexing.html#returning-a-view-versus-a-copy\n",
      "  data['Potential_PV_power_W'][data['Potential_PV_power_W'] < 0] = 0\n"
     ]
    }
   ],
   "source": [
    "\n",
    "data = pd.read_excel('./data/data.xlsx', 'scenario_2_training')  # energy usage data\n",
    "data['Potential_PV_power_W'][data['Potential_PV_power_W'] < 0] = 0\n",
    "#data = data.drop(['CPEHC', 'CPER1', 'CPESC'], axis=1)\n",
    "data.drop(index=data.index[0:WEEK_TWO_SLOTS], axis=0, inplace=True)\n",
    "data = data.reset_index(drop=True)\n",
    "\n",
    "demand_data = copy.copy(data)\n",
    "demand_data = demand_data.filter(regex='CPE|LVL')  # extract CPE and socket data\n",
    "demand_data = demand_data.astype(float)\n",
    "\n",
    "\n",
    "\n",
    "n_days = int(len(demand_data) / DAY_SLOT)\n",
    "cols = demand_data.columns \n",
    "demand_data['demand_col_sum'] = demand_data.sum(axis = 1)\n",
    "\n",
    "for u in range(n_days):\n",
    "    day_power =(np.sum((data.loc[(u*DAY_SLOT): (u*DAY_SLOT + DAY_SLOT - 1), 'Potential_PV_power_W']), axis = 0))/ 1000\n",
    "    energy.append(day_power)"
   ]
  },
  {
   "cell_type": "code",
   "execution_count": 17,
   "metadata": {},
   "outputs": [
    {
     "name": "stderr",
     "output_type": "stream",
     "text": [
      "/tmp/ipykernel_2235/4039464480.py:1: FutureWarning: Your version of xlrd is 1.2.0. In xlrd >= 2.0, only the xls format is supported. As a result, the openpyxl engine will be used if it is installed and the engine argument is not specified. Install openpyxl instead.\n",
      "  data = pd.read_excel('./data/data.xlsx', 'scenario_5_testing')  # energy usage data\n",
      "/tmp/ipykernel_2235/4039464480.py:2: SettingWithCopyWarning: \n",
      "A value is trying to be set on a copy of a slice from a DataFrame\n",
      "\n",
      "See the caveats in the documentation: https://pandas.pydata.org/pandas-docs/stable/user_guide/indexing.html#returning-a-view-versus-a-copy\n",
      "  data['Potential_PV_power_W'][data['Potential_PV_power_W'] < 0] = 0\n"
     ]
    }
   ],
   "source": [
    "\n",
    "data = pd.read_excel('./data/data.xlsx', 'scenario_5_testing')  # energy usage data\n",
    "data['Potential_PV_power_W'][data['Potential_PV_power_W'] < 0] = 0\n",
    "#data = data.drop(['CPEHC', 'CPER1', 'CPESC'], axis=1)\n",
    "data.drop(index=data.index[0:WEEK_TWO_SLOTS], axis=0, inplace=True)\n",
    "data = data.reset_index(drop=True)\n",
    "\n",
    "demand_data = copy.copy(data)\n",
    "demand_data = demand_data.filter(regex='CPE|LVL')  # extract CPE and socket data\n",
    "demand_data = demand_data.astype(float)\n",
    "\n",
    "\n",
    "\n",
    "n_days = int(len(demand_data) / DAY_SLOT)\n",
    "cols = demand_data.columns \n",
    "demand_data['demand_col_sum'] = demand_data.sum(axis = 1)\n",
    "\n",
    "for u in range(n_days): \n",
    "    day_demand =(np.sum((demand_data.loc[(u*DAY_SLOT): (u*DAY_SLOT + DAY_SLOT - 1), 'demand_col_sum']), axis = 0))/1000\n",
    "    s5_demand.append(day_demand)\n",
    "    "
   ]
  },
  {
   "cell_type": "code",
   "execution_count": 52,
   "metadata": {},
   "outputs": [
    {
     "data": {
      "image/png": "[encoded data removed]",
      "text/plain": [
       "<Figure size 1200x500 with 1 Axes>"
      ]
     },
     "metadata": {},
     "output_type": "display_data"
    }
   ],
   "source": [
    "import pickle \n",
    "import numpy as np\n",
    "import matplotlib.pyplot as plt\n",
    "\n",
    "\n",
    "days = list(range(1, 31))\n",
    "\n",
    "plt.figure(figsize=(12, 5))\n",
    "\n",
    "# Plotting the baseline data\n",
    "plt.plot(days, energy, linewidth = 4, color='black', label='Energy')\n",
    "plt.plot(days, s1_demand, color='red', label='Scenario 1 Load')\n",
    "plt.plot(days, s2_demand, color='blue', label='Scenario 2 Load')\n",
    "plt.plot(days, s3_demand, color='green', label='Scenario 3 Load')\n",
    "plt.plot(days, s4_demand, color='orange', label='Scenario 4 Load')\n",
    "plt.plot(days, s5_demand, color='purple', label='Scenario 5 Load')\n",
    "\n",
    "# Adding labels to the axes\n",
    "plt.xlabel('Day Number (November 2019)')\n",
    "plt.ylabel('PV Energy (KWh)')\n",
    "plt.title(\"Load vs PV Energy: Scenario 1 to 5\")\n",
    "# Adding a legend\n",
    "plt.legend(loc='upper left', bbox_to_anchor=(1, 1))\n",
    "\n",
    "# plt.xticks(days)\n",
    "# plt.ylim(-1.5, 1.5)\n",
    "# Displaying the plot\n",
    "plt.show()\n",
    "# len(base_fv)\n",
    "\n",
    "# plt.savefig('output_graphs/s5_demand.png')"
   ]
  },
  {
   "cell_type": "code",
   "execution_count": 40,
   "metadata": {},
   "outputs": [],
   "source": [
    "with open('s5_demand.pickle', 'wb') as f:\n",
    "    pickle.dump(s5_demand, f)"
   ]
  },
  {
   "cell_type": "code",
   "execution_count": 69,
   "metadata": {},
   "outputs": [
    {
     "data": {
      "text/html": [
       "Finishing last run (ID:c370to8o) before initializing another..."
      ],
      "text/plain": [
       "<IPython.core.display.HTML object>"
      ]
     },
     "metadata": {},
     "output_type": "display_data"
    },
    {
     "name": "stderr",
     "output_type": "stream",
     "text": [
      "wandb: WARNING Ensure read and write access to run files dir: /nvme/jilanii/parameter_tuning/wandb/run-20240504_151758-c370to8o/files, control this via the WANDB_DIR env var. See https://docs.wandb.ai/guides/track/environment-variables\n"
     ]
    },
    {
     "data": {
      "text/html": [
       "<style>\n",
       "    table.wandb td:nth-child(1) { padding: 0 10px; text-align: left ; width: auto;} td:nth-child(2) {text-align: left ; width: 100%}\n",
       "    .wandb-row { display: flex; flex-direction: row; flex-wrap: wrap; justify-content: flex-start; width: 100% }\n",
       "    .wandb-col { display: flex; flex-direction: column; flex-basis: 100%; flex: 1; padding: 10px; }\n",
       "    </style>\n",
       "<div class=\"wandb-row\"><div class=\"wandb-col\"><h3>Run history:</h3><br/><table class=\"wandb\"><tr><td>hour</td><td>▁▁▁▁▂▂▂▂▂▃▃▃▃▃▃▄▄▄▄▄▅▅▅▅▅▅▆▆▆▆▆▇▇▇▇▇▇███</td></tr><tr><td>soc_each_hour</td><td>█▇███▇▇██▆▇▇█▆▇▆█▇▄▆█▅▆▆██▆▆█▅▂▁▁█▄▆▆█▆▇</td></tr></table><br/></div><div class=\"wandb-col\"><h3>Run summary:</h3><br/><table class=\"wandb\"><tr><td>day_num</td><td>29</td></tr><tr><td>demand_per_day</td><td>15.46664</td></tr><tr><td>energy_avail_per_day</td><td>9.8883</td></tr><tr><td>hour</td><td>719</td></tr><tr><td>soc_each_hour</td><td>93.85</td></tr></table><br/></div></div>"
      ],
      "text/plain": [
       "<IPython.core.display.HTML object>"
      ]
     },
     "metadata": {},
     "output_type": "display_data"
    },
    {
     "data": {
      "text/html": [
       " View run <strong style=\"color:#cdcd00\">scenario_3_analytics_23/Apr/2024_14:16:21</strong> at: <a href='https://wandb.ai/csm_matthew_england/GA_Parameter_Tuning/runs/c370to8o' target=\"_blank\">https://wandb.ai/csm_matthew_england/GA_Parameter_Tuning/runs/c370to8o</a><br/>Synced 4 W&B file(s), 0 media file(s), 0 artifact file(s) and 0 other file(s)"
      ],
      "text/plain": [
       "<IPython.core.display.HTML object>"
      ]
     },
     "metadata": {},
     "output_type": "display_data"
    },
    {
     "data": {
      "text/html": [
       "Find logs at: <code>./wandb/run-20240504_151758-c370to8o/logs</code>"
      ],
      "text/plain": [
       "<IPython.core.display.HTML object>"
      ]
     },
     "metadata": {},
     "output_type": "display_data"
    },
    {
     "data": {
      "text/html": [
       "Successfully finished last run (ID:c370to8o). Initializing new run:<br/>"
      ],
      "text/plain": [
       "<IPython.core.display.HTML object>"
      ]
     },
     "metadata": {},
     "output_type": "display_data"
    },
    {
     "data": {
      "text/html": [
       "wandb version 0.16.6 is available!  To upgrade, please run:\n",
       " $ pip install wandb --upgrade"
      ],
      "text/plain": [
       "<IPython.core.display.HTML object>"
      ]
     },
     "metadata": {},
     "output_type": "display_data"
    },
    {
     "data": {
      "text/html": [
       "Tracking run with wandb version 0.16.4"
      ],
      "text/plain": [
       "<IPython.core.display.HTML object>"
      ]
     },
     "metadata": {},
     "output_type": "display_data"
    },
    {
     "data": {
      "text/html": [
       "Run data is saved locally in <code>/nvme/jilanii/parameter_tuning/wandb/run-20240504_151852-c370to8o</code>"
      ],
      "text/plain": [
       "<IPython.core.display.HTML object>"
      ]
     },
     "metadata": {},
     "output_type": "display_data"
    },
    {
     "data": {
      "text/html": [
       "Resuming run <strong><a href='https://wandb.ai/csm_matthew_england/GA_Parameter_Tuning/runs/c370to8o' target=\"_blank\">scenario_3_analytics_23/Apr/2024_14:16:21</a></strong> to <a href='https://wandb.ai/csm_matthew_england/GA_Parameter_Tuning' target=\"_blank\">Weights & Biases</a> (<a href='https://wandb.me/run' target=\"_blank\">docs</a>)<br/>"
      ],
      "text/plain": [
       "<IPython.core.display.HTML object>"
      ]
     },
     "metadata": {},
     "output_type": "display_data"
    },
    {
     "data": {
      "text/html": [
       " View project at <a href='https://wandb.ai/csm_matthew_england/GA_Parameter_Tuning' target=\"_blank\">https://wandb.ai/csm_matthew_england/GA_Parameter_Tuning</a>"
      ],
      "text/plain": [
       "<IPython.core.display.HTML object>"
      ]
     },
     "metadata": {},
     "output_type": "display_data"
    },
    {
     "data": {
      "text/html": [
       " View run at <a href='https://wandb.ai/csm_matthew_england/GA_Parameter_Tuning/runs/c370to8o' target=\"_blank\">https://wandb.ai/csm_matthew_england/GA_Parameter_Tuning/runs/c370to8o</a>"
      ],
      "text/plain": [
       "<IPython.core.display.HTML object>"
      ]
     },
     "metadata": {},
     "output_type": "display_data"
    },
    {
     "data": {
      "text/plain": [
       "<wandb.sdk.wandb_metric.Metric at 0x7f23c8512730>"
      ]
     },
     "execution_count": 69,
     "metadata": {},
     "output_type": "execute_result"
    }
   ],
   "source": [
    "old_run = wandb.init(project = \"GA_Parameter_Tuning\", resume = 'c370to8o')\n",
    "old_run.define_metric(\"hour\")\n",
    "old_run.define_metric(\"soc_each_hour\", step_metric=\"hour\")\n"
   ]
  },
  {
   "cell_type": "code",
   "execution_count": 68,
   "metadata": {},
   "outputs": [
    {
     "name": "stdout",
     "output_type": "stream",
     "text": [
      "0\n",
      "1\n",
      "2\n",
      "3\n",
      "4\n",
      "5\n",
      "6\n",
      "7\n",
      "8\n",
      "9\n",
      "10\n",
      "11\n",
      "12\n",
      "13\n",
      "14\n",
      "15\n",
      "16\n",
      "17\n",
      "18\n",
      "19\n",
      "20\n",
      "21\n",
      "22\n",
      "23\n",
      "24\n",
      "25\n",
      "26\n",
      "27\n",
      "28\n",
      "29\n",
      "30\n",
      "31\n",
      "32\n",
      "33\n",
      "34\n",
      "35\n",
      "36\n",
      "37\n",
      "38\n",
      "39\n",
      "40\n",
      "41\n",
      "42\n",
      "43\n",
      "44\n",
      "45\n",
      "46\n",
      "47\n",
      "48\n",
      "49\n",
      "50\n",
      "51\n",
      "52\n",
      "53\n",
      "54\n",
      "55\n",
      "56\n",
      "57\n",
      "58\n",
      "59\n",
      "60\n",
      "61\n",
      "62\n",
      "63\n",
      "64\n",
      "65\n",
      "66\n",
      "67\n",
      "68\n",
      "69\n",
      "70\n",
      "71\n",
      "72\n",
      "73\n",
      "74\n",
      "75\n",
      "76\n",
      "77\n",
      "78\n",
      "79\n",
      "80\n",
      "81\n",
      "82\n",
      "83\n",
      "84\n",
      "85\n",
      "86\n",
      "87\n",
      "88\n",
      "89\n",
      "90\n",
      "91\n",
      "92\n",
      "93\n",
      "94\n",
      "95\n",
      "96\n",
      "97\n",
      "98\n",
      "99\n",
      "100\n",
      "101\n",
      "102\n",
      "103\n",
      "104\n",
      "105\n",
      "106\n",
      "107\n",
      "108\n",
      "109\n",
      "110\n",
      "111\n",
      "112\n",
      "113\n",
      "114\n",
      "115\n",
      "116\n",
      "117\n",
      "118\n",
      "119\n",
      "120\n",
      "121\n",
      "122\n",
      "123\n",
      "124\n",
      "125\n",
      "126\n",
      "127\n",
      "128\n",
      "129\n",
      "130\n",
      "131\n",
      "132\n",
      "133\n",
      "134\n",
      "135\n",
      "136\n",
      "137\n",
      "138\n",
      "139\n",
      "140\n",
      "141\n",
      "142\n",
      "143\n",
      "144\n",
      "145\n",
      "146\n",
      "147\n",
      "148\n",
      "149\n",
      "150\n",
      "151\n",
      "152\n",
      "153\n",
      "154\n",
      "155\n",
      "156\n",
      "157\n",
      "158\n",
      "159\n",
      "160\n",
      "161\n",
      "162\n",
      "163\n",
      "164\n",
      "165\n",
      "166\n",
      "167\n",
      "168\n",
      "169\n",
      "170\n",
      "171\n",
      "172\n",
      "173\n",
      "174\n",
      "175\n",
      "176\n",
      "177\n",
      "178\n",
      "179\n",
      "180\n",
      "181\n",
      "182\n",
      "183\n",
      "184\n",
      "185\n",
      "186\n",
      "187\n",
      "188\n",
      "189\n",
      "190\n",
      "191\n",
      "192\n",
      "193\n",
      "194\n",
      "195\n",
      "196\n",
      "197\n",
      "198\n",
      "199\n",
      "200\n",
      "201\n",
      "202\n",
      "203\n",
      "204\n",
      "205\n",
      "206\n",
      "207\n",
      "208\n",
      "209\n",
      "210\n",
      "211\n",
      "212\n",
      "213\n",
      "214\n",
      "215\n",
      "216\n",
      "217\n",
      "218\n",
      "219\n",
      "220\n",
      "221\n",
      "222\n",
      "223\n",
      "224\n",
      "225\n",
      "226\n",
      "227\n",
      "228\n",
      "229\n",
      "230\n",
      "231\n",
      "232\n",
      "233\n",
      "234\n",
      "235\n",
      "236\n",
      "237\n",
      "238\n",
      "239\n",
      "240\n",
      "241\n",
      "242\n",
      "243\n",
      "244\n",
      "245\n",
      "246\n",
      "247\n",
      "248\n",
      "249\n",
      "250\n",
      "251\n",
      "252\n",
      "253\n",
      "254\n",
      "255\n",
      "256\n",
      "257\n",
      "258\n",
      "259\n",
      "260\n",
      "261\n",
      "262\n",
      "263\n",
      "264\n",
      "265\n",
      "266\n",
      "267\n",
      "268\n",
      "269\n",
      "270\n",
      "271\n",
      "272\n",
      "273\n",
      "274\n",
      "275\n",
      "276\n",
      "277\n",
      "278\n",
      "279\n",
      "280\n",
      "281\n",
      "282\n",
      "283\n",
      "284\n",
      "285\n",
      "286\n",
      "287\n",
      "288\n",
      "289\n",
      "290\n",
      "291\n",
      "292\n",
      "293\n",
      "294\n",
      "295\n",
      "296\n",
      "297\n",
      "298\n",
      "299\n",
      "300\n",
      "301\n",
      "302\n",
      "303\n",
      "304\n",
      "305\n",
      "306\n",
      "307\n",
      "308\n",
      "309\n",
      "310\n",
      "311\n",
      "312\n",
      "313\n",
      "314\n",
      "315\n",
      "316\n",
      "317\n",
      "318\n",
      "319\n",
      "320\n",
      "321\n",
      "322\n",
      "323\n",
      "324\n",
      "325\n",
      "326\n",
      "327\n",
      "328\n",
      "329\n",
      "330\n",
      "331\n",
      "332\n",
      "333\n",
      "334\n",
      "335\n",
      "336\n",
      "337\n",
      "338\n",
      "339\n",
      "340\n",
      "341\n",
      "342\n",
      "343\n",
      "344\n",
      "345\n",
      "346\n",
      "347\n",
      "348\n",
      "349\n",
      "350\n",
      "351\n",
      "352\n",
      "353\n",
      "354\n",
      "355\n",
      "356\n",
      "357\n",
      "358\n",
      "359\n",
      "360\n",
      "361\n",
      "362\n",
      "363\n",
      "364\n",
      "365\n",
      "366\n",
      "367\n",
      "368\n",
      "369\n",
      "370\n",
      "371\n",
      "372\n",
      "373\n",
      "374\n",
      "375\n",
      "376\n",
      "377\n",
      "378\n",
      "379\n",
      "380\n",
      "381\n",
      "382\n",
      "383\n",
      "384\n",
      "385\n",
      "386\n",
      "387\n",
      "388\n",
      "389\n",
      "390\n",
      "391\n",
      "392\n",
      "393\n",
      "394\n",
      "395\n",
      "396\n",
      "397\n",
      "398\n",
      "399\n",
      "400\n",
      "401\n",
      "402\n",
      "403\n",
      "404\n",
      "405\n",
      "406\n",
      "407\n",
      "408\n",
      "409\n",
      "410\n",
      "411\n",
      "412\n",
      "413\n",
      "414\n",
      "415\n",
      "416\n",
      "417\n",
      "418\n",
      "419\n",
      "420\n",
      "421\n",
      "422\n",
      "423\n",
      "424\n",
      "425\n",
      "426\n",
      "427\n",
      "428\n",
      "429\n",
      "430\n",
      "431\n",
      "432\n",
      "433\n",
      "434\n",
      "435\n",
      "436\n",
      "437\n",
      "438\n",
      "439\n",
      "440\n",
      "441\n",
      "442\n",
      "443\n",
      "444\n",
      "445\n",
      "446\n",
      "447\n",
      "448\n",
      "449\n",
      "450\n",
      "451\n",
      "452\n",
      "453\n",
      "454\n",
      "455\n",
      "456\n",
      "457\n",
      "458\n",
      "459\n",
      "460\n",
      "461\n",
      "462\n",
      "463\n",
      "464\n",
      "465\n",
      "466\n",
      "467\n",
      "468\n",
      "469\n",
      "470\n",
      "471\n",
      "472\n",
      "473\n",
      "474\n",
      "475\n",
      "476\n",
      "477\n",
      "478\n",
      "479\n",
      "480\n",
      "481\n",
      "482\n",
      "483\n",
      "484\n",
      "485\n",
      "486\n",
      "487\n",
      "488\n",
      "489\n",
      "490\n",
      "491\n",
      "492\n",
      "493\n",
      "494\n",
      "495\n",
      "496\n",
      "497\n",
      "498\n",
      "499\n",
      "500\n",
      "501\n",
      "502\n",
      "503\n",
      "504\n",
      "505\n",
      "506\n",
      "507\n",
      "508\n",
      "509\n",
      "510\n",
      "511\n",
      "512\n",
      "513\n",
      "514\n",
      "515\n",
      "516\n",
      "517\n",
      "518\n",
      "519\n",
      "520\n",
      "521\n",
      "522\n",
      "523\n",
      "524\n",
      "525\n",
      "526\n",
      "527\n",
      "528\n",
      "529\n",
      "530\n",
      "531\n",
      "532\n",
      "533\n",
      "534\n",
      "535\n",
      "536\n",
      "537\n",
      "538\n",
      "539\n",
      "540\n",
      "541\n",
      "542\n",
      "543\n",
      "544\n",
      "545\n",
      "546\n",
      "547\n",
      "548\n",
      "549\n",
      "550\n",
      "551\n",
      "552\n",
      "553\n",
      "554\n",
      "555\n",
      "556\n",
      "557\n",
      "558\n",
      "559\n",
      "560\n",
      "561\n",
      "562\n",
      "563\n",
      "564\n",
      "565\n",
      "566\n",
      "567\n",
      "568\n",
      "569\n",
      "570\n",
      "571\n",
      "572\n",
      "573\n",
      "574\n",
      "575\n",
      "576\n",
      "577\n",
      "578\n",
      "579\n",
      "580\n",
      "581\n",
      "582\n",
      "583\n",
      "584\n",
      "585\n",
      "586\n",
      "587\n",
      "588\n",
      "589\n",
      "590\n",
      "591\n",
      "592\n",
      "593\n",
      "594\n",
      "595\n",
      "596\n",
      "597\n",
      "598\n",
      "599\n",
      "600\n",
      "601\n",
      "602\n",
      "603\n",
      "604\n",
      "605\n",
      "606\n",
      "607\n",
      "608\n",
      "609\n",
      "610\n",
      "611\n",
      "612\n",
      "613\n",
      "614\n",
      "615\n",
      "616\n",
      "617\n",
      "618\n",
      "619\n",
      "620\n",
      "621\n",
      "622\n",
      "623\n",
      "624\n",
      "625\n",
      "626\n",
      "627\n",
      "628\n",
      "629\n",
      "630\n",
      "631\n",
      "632\n",
      "633\n",
      "634\n",
      "635\n",
      "636\n",
      "637\n",
      "638\n",
      "639\n",
      "640\n",
      "641\n",
      "642\n",
      "643\n",
      "644\n",
      "645\n",
      "646\n",
      "647\n",
      "648\n",
      "649\n",
      "650\n",
      "651\n",
      "652\n",
      "653\n",
      "654\n",
      "655\n",
      "656\n",
      "657\n",
      "658\n",
      "659\n",
      "660\n",
      "661\n",
      "662\n",
      "663\n",
      "664\n",
      "665\n",
      "666\n",
      "667\n",
      "668\n",
      "669\n",
      "670\n",
      "671\n",
      "672\n",
      "673\n",
      "674\n",
      "675\n",
      "676\n",
      "677\n",
      "678\n",
      "679\n",
      "680\n",
      "681\n",
      "682\n",
      "683\n",
      "684\n",
      "685\n",
      "686\n",
      "687\n",
      "688\n",
      "689\n",
      "690\n",
      "691\n",
      "692\n",
      "693\n",
      "694\n",
      "695\n",
      "696\n",
      "697\n",
      "698\n",
      "699\n",
      "700\n",
      "701\n",
      "702\n",
      "703\n",
      "704\n",
      "705\n",
      "706\n",
      "707\n",
      "708\n",
      "709\n",
      "710\n",
      "711\n",
      "712\n",
      "713\n",
      "714\n",
      "715\n",
      "716\n",
      "717\n",
      "718\n",
      "719\n"
     ]
    }
   ],
   "source": [
    "h = 0\n",
    "for i in range(len(data_soc)):\n",
    "    \n",
    "    # if h > 23:\n",
    "    #     h = 0\n",
    "    #     #print(h)\n",
    "    old_run.log({\"soc_each_hour\":data_soc[i], \"hour\":h})\n",
    "    print(h)\n",
    "    h = h + 1 "
   ]
  },
  {
   "cell_type": "code",
   "execution_count": 64,
   "metadata": {},
   "outputs": [
    {
     "name": "stderr",
     "output_type": "stream",
     "text": [
      "wandb: WARNING Ensure read and write access to run files dir: /nvme/jilanii/parameter_tuning/wandb/run-20240504_150904-uxkjg974/files, control this via the WANDB_DIR env var. See https://docs.wandb.ai/guides/track/environment-variables\n"
     ]
    },
    {
     "data": {
      "text/html": [
       "<style>\n",
       "    table.wandb td:nth-child(1) { padding: 0 10px; text-align: left ; width: auto;} td:nth-child(2) {text-align: left ; width: 100%}\n",
       "    .wandb-row { display: flex; flex-direction: row; flex-wrap: wrap; justify-content: flex-start; width: 100% }\n",
       "    .wandb-col { display: flex; flex-direction: column; flex-basis: 100%; flex: 1; padding: 10px; }\n",
       "    </style>\n",
       "<div class=\"wandb-row\"><div class=\"wandb-col\"><h3>Run history:</h3><br/><table class=\"wandb\"><tr><td>hour</td><td>▁▁▂▂▂▃▃▃▄▄▅▅▅▆▆▆▇▇██▁▁▂▂▂▃▃▄▄▄▅▅▅▆▆▆▇▇██</td></tr><tr><td>soc_each_hour</td><td>█▇█▇▇▇█▇▇▄██▇▆█▃▁▄▅██▇▇█▇▇▆█▇▆▅██▆▅▃█▆▅▇</td></tr></table><br/></div><div class=\"wandb-col\"><h3>Run summary:</h3><br/><table class=\"wandb\"><tr><td>day_num</td><td>29</td></tr><tr><td>demand_per_day</td><td>7.28464</td></tr><tr><td>energy_avail_per_day</td><td>9.8883</td></tr><tr><td>hour</td><td>719</td></tr><tr><td>soc_each_hour</td><td>93.85</td></tr></table><br/></div></div>"
      ],
      "text/plain": [
       "<IPython.core.display.HTML object>"
      ]
     },
     "metadata": {},
     "output_type": "display_data"
    },
    {
     "data": {
      "text/html": [
       " View run <strong style=\"color:#cdcd00\">scenario_2_analytics_22/Apr/2024_20:15:37</strong> at: <a href='https://wandb.ai/csm_matthew_england/GA_Parameter_Tuning/runs/uxkjg974' target=\"_blank\">https://wandb.ai/csm_matthew_england/GA_Parameter_Tuning/runs/uxkjg974</a><br/>Synced 4 W&B file(s), 0 media file(s), 0 artifact file(s) and 0 other file(s)"
      ],
      "text/plain": [
       "<IPython.core.display.HTML object>"
      ]
     },
     "metadata": {},
     "output_type": "display_data"
    },
    {
     "data": {
      "text/html": [
       "Find logs at: <code>./wandb/run-20240504_150904-uxkjg974/logs</code>"
      ],
      "text/plain": [
       "<IPython.core.display.HTML object>"
      ]
     },
     "metadata": {},
     "output_type": "display_data"
    }
   ],
   "source": [
    "old_run.finish()\n",
    "wb.finish()"
   ]
  },
  {
   "cell_type": "code",
   "execution_count": 4,
   "metadata": {},
   "outputs": [
    {
     "name": "stderr",
     "output_type": "stream",
     "text": [
      "/tmp/ipykernel_21237/3919091350.py:1: FutureWarning: Your version of xlrd is 1.2.0. In xlrd >= 2.0, only the xls format is supported. As a result, the openpyxl engine will be used if it is installed and the engine argument is not specified. Install openpyxl instead.\n",
      "  data = pd.read_excel('./data/data.xlsx', 'scenario_1_nov')  # energy usage data\n",
      "/tmp/ipykernel_21237/3919091350.py:2: SettingWithCopyWarning: \n",
      "A value is trying to be set on a copy of a slice from a DataFrame\n",
      "\n",
      "See the caveats in the documentation: https://pandas.pydata.org/pandas-docs/stable/user_guide/indexing.html#returning-a-view-versus-a-copy\n",
      "  data['Potential_PV_power_W'][data['Potential_PV_power_W'] < 0] = 0\n"
     ]
    }
   ],
   "source": [
    "data = pd.read_excel('./data/data.xlsx', 'scenario_1_nov')  # energy usage data\n",
    "data['Potential_PV_power_W'][data['Potential_PV_power_W'] < 0] = 0\n",
    "#data = data.drop(['CPEHC', 'CPER1', 'CPESC'], axis=1)\n",
    "data.drop(index=data.index[0:WEEK_TWO_SLOTS], axis=0, inplace=True)\n",
    "data = data.reset_index(drop=True)\n",
    "\n",
    "demand_data = copy.copy(data)\n",
    "demand_data = demand_data.filter(regex='CPE|LVL')  # extract CPE and socket data\n",
    "demand_data = demand_data.astype(float)\n",
    "\n",
    "n_days = int(len(demand_data) / DAY_SLOT)\n",
    "cols = demand_data.columns \n",
    "demand_data['demand_col_sum'] = demand_data.sum(axis = 1)\n",
    "\n",
    "for u in range(n_days): \n",
    "    day_demand =(np.sum((demand_data.loc[(u*DAY_SLOT): (u*DAY_SLOT + DAY_SLOT - 1), 'demand_col_sum']), axis = 0))/1000\n",
    "    day_power =(np.sum((data.loc[(u*DAY_SLOT): (u*DAY_SLOT + DAY_SLOT - 1), 'Potential_PV_power_W']), axis = 0))/ 1000\n",
    "    wb.log({\"demand_per_day\": day_demand, \"day_num\": u})\n",
    "    wb.log({\"energy_avail_per_day\": day_power, \"day_num\": u})\n",
    "    #wb.log({\"demand_power_per_day\": {\"demand_per_day\": day_demand, \"energy_avail_per_day\": day_power  }})"
   ]
  },
  {
   "cell_type": "code",
   "execution_count": 6,
   "metadata": {},
   "outputs": [
    {
     "data": {
      "text/html": [
       "Finishing last run (ID:cbsyjicf) before initializing another..."
      ],
      "text/plain": [
       "<IPython.core.display.HTML object>"
      ]
     },
     "metadata": {},
     "output_type": "display_data"
    },
    {
     "name": "stderr",
     "output_type": "stream",
     "text": [
      "wandb: WARNING Ensure read and write access to run files dir: /nvme/jilanii/parameter_tuning/wandb/run-20240514_183010-cbsyjicf/files, control this via the WANDB_DIR env var. See https://docs.wandb.ai/guides/track/environment-variables\n"
     ]
    },
    {
     "data": {
      "text/html": [
       " View run <strong style=\"color:#cdcd00\">results_logging</strong> at: <a href='https://wandb.ai/csm_matthew_england/GA_Parameter_Tuning/runs/cbsyjicf' target=\"_blank\">https://wandb.ai/csm_matthew_england/GA_Parameter_Tuning/runs/cbsyjicf</a><br/>Synced 3 W&B file(s), 1 media file(s), 0 artifact file(s) and 0 other file(s)"
      ],
      "text/plain": [
       "<IPython.core.display.HTML object>"
      ]
     },
     "metadata": {},
     "output_type": "display_data"
    },
    {
     "data": {
      "text/html": [
       "Find logs at: <code>./wandb/run-20240514_183010-cbsyjicf/logs</code>"
      ],
      "text/plain": [
       "<IPython.core.display.HTML object>"
      ]
     },
     "metadata": {},
     "output_type": "display_data"
    },
    {
     "data": {
      "text/html": [
       "Successfully finished last run (ID:cbsyjicf). Initializing new run:<br/>"
      ],
      "text/plain": [
       "<IPython.core.display.HTML object>"
      ]
     },
     "metadata": {},
     "output_type": "display_data"
    },
    {
     "data": {
      "text/html": [
       "wandb version 0.17.0 is available!  To upgrade, please run:\n",
       " $ pip install wandb --upgrade"
      ],
      "text/plain": [
       "<IPython.core.display.HTML object>"
      ]
     },
     "metadata": {},
     "output_type": "display_data"
    },
    {
     "data": {
      "text/html": [
       "Tracking run with wandb version 0.16.4"
      ],
      "text/plain": [
       "<IPython.core.display.HTML object>"
      ]
     },
     "metadata": {},
     "output_type": "display_data"
    },
    {
     "data": {
      "text/html": [
       "Run data is saved locally in <code>/nvme/jilanii/parameter_tuning/wandb/run-20240514_183040-cbsyjicf</code>"
      ],
      "text/plain": [
       "<IPython.core.display.HTML object>"
      ]
     },
     "metadata": {},
     "output_type": "display_data"
    },
    {
     "data": {
      "text/html": [
       "Resuming run <strong><a href='https://wandb.ai/csm_matthew_england/GA_Parameter_Tuning/runs/cbsyjicf' target=\"_blank\">results_logging</a></strong> to <a href='https://wandb.ai/csm_matthew_england/GA_Parameter_Tuning' target=\"_blank\">Weights & Biases</a> (<a href='https://wandb.me/run' target=\"_blank\">docs</a>)<br/>"
      ],
      "text/plain": [
       "<IPython.core.display.HTML object>"
      ]
     },
     "metadata": {},
     "output_type": "display_data"
    },
    {
     "data": {
      "text/html": [
       " View project at <a href='https://wandb.ai/csm_matthew_england/GA_Parameter_Tuning' target=\"_blank\">https://wandb.ai/csm_matthew_england/GA_Parameter_Tuning</a>"
      ],
      "text/plain": [
       "<IPython.core.display.HTML object>"
      ]
     },
     "metadata": {},
     "output_type": "display_data"
    },
    {
     "data": {
      "text/html": [
       " View run at <a href='https://wandb.ai/csm_matthew_england/GA_Parameter_Tuning/runs/cbsyjicf' target=\"_blank\">https://wandb.ai/csm_matthew_england/GA_Parameter_Tuning/runs/cbsyjicf</a>"
      ],
      "text/plain": [
       "<IPython.core.display.HTML object>"
      ]
     },
     "metadata": {},
     "output_type": "display_data"
    }
   ],
   "source": [
    "old_run = wandb.init(project = \"GA_Parameter_Tuning\", resume = 'cbsyjicf')\n",
    "columns = ['Run Name', 'model','Fitness','Battery Lifetime', 'Capacity Shortage', 'Duration', 'p_c', 'p_m']\n",
    "results_table = wandb.Table(columns = columns)\n",
    "results_table.add_data(\"dumy_run\", \"dummy model\", '0', '0', '0', '0', '0', '0')\n",
    "old_run.log({\"results\": results_table})"
   ]
  },
  {
   "cell_type": "code",
   "execution_count": 14,
   "metadata": {},
   "outputs": [
    {
     "data": {
      "text/html": [
       "Finishing last run (ID:cbsyjicf) before initializing another..."
      ],
      "text/plain": [
       "<IPython.core.display.HTML object>"
      ]
     },
     "metadata": {},
     "output_type": "display_data"
    },
    {
     "name": "stderr",
     "output_type": "stream",
     "text": [
      "wandb: WARNING Ensure read and write access to run files dir: /nvme/jilanii/parameter_tuning/wandb/run-20240514_184336-cbsyjicf/files, control this via the WANDB_DIR env var. See https://docs.wandb.ai/guides/track/environment-variables\n"
     ]
    },
    {
     "data": {
      "text/html": [
       " View run <strong style=\"color:#cdcd00\">results_logging</strong> at: <a href='https://wandb.ai/csm_matthew_england/GA_Parameter_Tuning/runs/cbsyjicf' target=\"_blank\">https://wandb.ai/csm_matthew_england/GA_Parameter_Tuning/runs/cbsyjicf</a><br/>Synced 3 W&B file(s), 1 media file(s), 1 artifact file(s) and 0 other file(s)"
      ],
      "text/plain": [
       "<IPython.core.display.HTML object>"
      ]
     },
     "metadata": {},
     "output_type": "display_data"
    },
    {
     "data": {
      "text/html": [
       "Find logs at: <code>./wandb/run-20240514_184336-cbsyjicf/logs</code>"
      ],
      "text/plain": [
       "<IPython.core.display.HTML object>"
      ]
     },
     "metadata": {},
     "output_type": "display_data"
    },
    {
     "data": {
      "text/html": [
       "Successfully finished last run (ID:cbsyjicf). Initializing new run:<br/>"
      ],
      "text/plain": [
       "<IPython.core.display.HTML object>"
      ]
     },
     "metadata": {},
     "output_type": "display_data"
    },
    {
     "data": {
      "text/html": [
       "wandb version 0.17.0 is available!  To upgrade, please run:\n",
       " $ pip install wandb --upgrade"
      ],
      "text/plain": [
       "<IPython.core.display.HTML object>"
      ]
     },
     "metadata": {},
     "output_type": "display_data"
    },
    {
     "data": {
      "text/html": [
       "Tracking run with wandb version 0.16.4"
      ],
      "text/plain": [
       "<IPython.core.display.HTML object>"
      ]
     },
     "metadata": {},
     "output_type": "display_data"
    },
    {
     "data": {
      "text/html": [
       "Run data is saved locally in <code>/nvme/jilanii/parameter_tuning/wandb/run-20240514_184432-cbsyjicf</code>"
      ],
      "text/plain": [
       "<IPython.core.display.HTML object>"
      ]
     },
     "metadata": {},
     "output_type": "display_data"
    },
    {
     "data": {
      "text/html": [
       "Resuming run <strong><a href='https://wandb.ai/csm_matthew_england/GA_Parameter_Tuning/runs/cbsyjicf' target=\"_blank\">results_logging</a></strong> to <a href='https://wandb.ai/csm_matthew_england/GA_Parameter_Tuning' target=\"_blank\">Weights & Biases</a> (<a href='https://wandb.me/run' target=\"_blank\">docs</a>)<br/>"
      ],
      "text/plain": [
       "<IPython.core.display.HTML object>"
      ]
     },
     "metadata": {},
     "output_type": "display_data"
    },
    {
     "data": {
      "text/html": [
       " View project at <a href='https://wandb.ai/csm_matthew_england/GA_Parameter_Tuning' target=\"_blank\">https://wandb.ai/csm_matthew_england/GA_Parameter_Tuning</a>"
      ],
      "text/plain": [
       "<IPython.core.display.HTML object>"
      ]
     },
     "metadata": {},
     "output_type": "display_data"
    },
    {
     "data": {
      "text/html": [
       " View run at <a href='https://wandb.ai/csm_matthew_england/GA_Parameter_Tuning/runs/cbsyjicf' target=\"_blank\">https://wandb.ai/csm_matthew_england/GA_Parameter_Tuning/runs/cbsyjicf</a>"
      ],
      "text/plain": [
       "<IPython.core.display.HTML object>"
      ]
     },
     "metadata": {},
     "output_type": "display_data"
    }
   ],
   "source": [
    "old_run = wandb.init(project = \"GA_Parameter_Tuning\", resume = 'cbsyjicf')\n",
    "columns = ['Run Name', 'model','Fitness','Battery Lifetime', 'Capacity Shortage', 'Duration', 'p_c', 'p_m']\n",
    "results_table = wandb.Table(columns = columns)\n",
    "# results_table = old_run.use_artifact(\"run-cbsyjicf-results:v1\")\n",
    "results_table.add_data(\"dumy_run2\", \"dummy model\", '0', '0', '0', '0', '0', '0')\n",
    "old_run.log({\"results\": results_table})\n",
    "# print(results_table.type)\n",
    "\n",
    "# columns = ['Run Name', 'model','Fitness','Battery Lifetime', 'Capacity Shortage', 'Duration', 'p_c', 'p_m']\n",
    "# results_table = wandb.Table(columns = columns)\n",
    "# results_table.add_data(\"dumy_run\", \"dummy model\", '0', '0', '0', '0', '0', '0')\n",
    "# old_run.config.update({\"results_summary\": results_table}, allow_val_change=True)"
   ]
  },
  {
   "cell_type": "code",
   "execution_count": 4,
   "metadata": {},
   "outputs": [
    {
     "name": "stderr",
     "output_type": "stream",
     "text": [
      "Failed to detect the name of this notebook, you can set it manually with the WANDB_NOTEBOOK_NAME environment variable to enable code saving.\n",
      "\u001b[34m\u001b[1mwandb\u001b[0m: Currently logged in as: \u001b[33mjilanii\u001b[0m (\u001b[33mcsm_matthew_england\u001b[0m). Use \u001b[1m`wandb login --relogin`\u001b[0m to force relogin\n"
     ]
    },
    {
     "data": {
      "text/html": [
       "wandb version 0.17.2 is available!  To upgrade, please run:\n",
       " $ pip install wandb --upgrade"
      ],
      "text/plain": [
       "<IPython.core.display.HTML object>"
      ]
     },
     "metadata": {},
     "output_type": "display_data"
    },
    {
     "data": {
      "text/html": [
       "Tracking run with wandb version 0.16.4"
      ],
      "text/plain": [
       "<IPython.core.display.HTML object>"
      ]
     },
     "metadata": {},
     "output_type": "display_data"
    },
    {
     "data": {
      "text/html": [
       "Run data is saved locally in <code>/nvme/jilanii/parameter_tuning/wandb/run-20240624_181914-mjdgzitb</code>"
      ],
      "text/plain": [
       "<IPython.core.display.HTML object>"
      ]
     },
     "metadata": {},
     "output_type": "display_data"
    },
    {
     "data": {
      "text/html": [
       "Resuming run <strong><a href='https://wandb.ai/csm_matthew_england/GA_Parameter_Tuning/runs/mjdgzitb' target=\"_blank\">tuning_skopt_scenario2_09/Jun/2024_13:32:21</a></strong> to <a href='https://wandb.ai/csm_matthew_england/GA_Parameter_Tuning' target=\"_blank\">Weights & Biases</a> (<a href='https://wandb.me/run' target=\"_blank\">docs</a>)<br/>"
      ],
      "text/plain": [
       "<IPython.core.display.HTML object>"
      ]
     },
     "metadata": {},
     "output_type": "display_data"
    },
    {
     "data": {
      "text/html": [
       " View project at <a href='https://wandb.ai/csm_matthew_england/GA_Parameter_Tuning' target=\"_blank\">https://wandb.ai/csm_matthew_england/GA_Parameter_Tuning</a>"
      ],
      "text/plain": [
       "<IPython.core.display.HTML object>"
      ]
     },
     "metadata": {},
     "output_type": "display_data"
    },
    {
     "data": {
      "text/html": [
       " View run at <a href='https://wandb.ai/csm_matthew_england/GA_Parameter_Tuning/runs/mjdgzitb' target=\"_blank\">https://wandb.ai/csm_matthew_england/GA_Parameter_Tuning/runs/mjdgzitb</a>"
      ],
      "text/plain": [
       "<IPython.core.display.HTML object>"
      ]
     },
     "metadata": {},
     "output_type": "display_data"
    }
   ],
   "source": [
    "old_run = wandb.init(project = \"GA_Parameter_Tuning\", resume = 'mjdgzitb')\n",
    "old_run.config[\"final_prob_mutation\"] = 0.8937692474329743\n",
    "old_run.config[\"final_prob_crossover\"] = 0.5939852077021733\n",
    "old_run.config[\"best_fv_average\"] = 0.291"
   ]
  },
  {
   "cell_type": "code",
   "execution_count": 53,
   "metadata": {},
   "outputs": [
    {
     "name": "stdout",
     "output_type": "stream",
     "text": [
      "[29.29866051]\n",
      "43.27403007533815\n",
      "[66.02020716]\n"
     ]
    }
   ],
   "source": [
    "import pickle \n",
    "import numpy as np\n",
    "\n",
    "fv = None\n",
    "\n",
    "\n",
    "with open(\"output_pickle/tuned_scenario5_03_Jul_2024_05_40_02_dur.pickle\", \"rb\") as f:\n",
    "    fv =  pickle.load(f)\n",
    "\n",
    "\n",
    "fv_old = fv\n",
    "fv = sorted(fv)\n",
    "# fv = fv[10:]\n",
    "fv_average = np.sum(fv)/30\n",
    "print(min(fv))\n",
    "print(fv_average)\n",
    "print(fv[-2])\n"
   ]
  },
  {
   "cell_type": "code",
   "execution_count": 54,
   "metadata": {},
   "outputs": [
    {
     "data": {
      "text/plain": [
       "21"
      ]
     },
     "execution_count": 54,
     "metadata": {},
     "output_type": "execute_result"
    }
   ],
   "source": [
    "np.argmax(fv_old)"
   ]
  },
  {
   "cell_type": "code",
   "execution_count": 47,
   "metadata": {},
   "outputs": [
    {
     "data": {
      "text/plain": [
       "[array([0.10197572]),\n",
       " array([0.10515885]),\n",
       " array([0.11035696]),\n",
       " array([0.15002509]),\n",
       " array([0.22532597]),\n",
       " array([0.23643417]),\n",
       " array([0.24547896]),\n",
       " array([0.25020722]),\n",
       " array([0.26530012]),\n",
       " array([0.26925663]),\n",
       " array([0.27229857]),\n",
       " array([0.27301639]),\n",
       " array([0.27590547]),\n",
       " array([0.27856797]),\n",
       " array([0.28523708]),\n",
       " array([0.30029865]),\n",
       " array([0.33111381]),\n",
       " array([0.38663888]),\n",
       " array([0.42989777]),\n",
       " array([0.94289368])]"
      ]
     },
     "execution_count": 47,
     "metadata": {},
     "output_type": "execute_result"
    }
   ],
   "source": [
    "fv"
   ]
  },
  {
   "cell_type": "code",
   "execution_count": 72,
   "metadata": {},
   "outputs": [
    {
     "data": {
      "text/plain": [
       "[1, 2, 3, 4, 5, 6, 7, 8, 9, 10, 11, 12, 13, 14, 15, 16, 17, 18, 19, 20]"
      ]
     },
     "execution_count": 72,
     "metadata": {},
     "output_type": "execute_result"
    }
   ],
   "source": [
    "days = list(range(1, 21))\n",
    "days"
   ]
  },
  {
   "cell_type": "code",
   "execution_count": 4,
   "metadata": {},
   "outputs": [
    {
     "data": {
      "image/png": "[encoded data removed]",
      "text/plain": [
       "<Figure size 1200x500 with 1 Axes>"
      ]
     },
     "metadata": {},
     "output_type": "display_data"
    },
    {
     "data": {
      "text/plain": [
       "<Figure size 640x480 with 0 Axes>"
      ]
     },
     "metadata": {},
     "output_type": "display_data"
    }
   ],
   "source": [
    "import pickle \n",
    "import numpy as np\n",
    "import matplotlib.pyplot as plt\n",
    "\n",
    "base_fv = None\n",
    "tuned_fv = None\n",
    "days = list(range(1, 31))\n",
    "\n",
    "with open(\"output_pickle/tuned_scenario2_05_Jul_2024_18_25_00_fv.pickle\", \"rb\") as f:\n",
    "    base_fv =  pickle.load(f)\n",
    "    \n",
    "\n",
    "with open(\"output_pickle/untuned_scenario2_baseline_05_Jul_2024_18_24_38_fv.pickle\", \"rb\") as f:\n",
    "    tuned_fv =  pickle.load(f)\n",
    "    # tuned_fv = tuned_fv[5:25]\n",
    "\n",
    "\n",
    "plt.figure(figsize=(12, 5))\n",
    "\n",
    "# Plotting the baseline data\n",
    "plt.plot(days, base_fv, color='green', label='GA')\n",
    "plt.plot(days, tuned_fv, color='blue', label='GA-SKOPT')\n",
    "\n",
    "# Adding labels to the axes\n",
    "plt.xlabel('Day Number (November 2019)')\n",
    "plt.ylabel('Fitness Score')\n",
    "plt.title(\"Comparison of Fitness: Scenario 2\")\n",
    "# Adding a legend\n",
    "plt.legend()\n",
    "\n",
    "plt.xticks(days)\n",
    "# plt.ylim(-1.5, 1.5)\n",
    "# Displaying the plot\n",
    "plt.show()\n",
    "# len(base_fv)\n",
    "\n",
    "plt.savefig('output_graphs/scenario2_fitness.png')"
   ]
  },
  {
   "cell_type": "code",
   "execution_count": 3,
   "metadata": {},
   "outputs": [
    {
     "data": {
      "text/plain": [
       "[1,\n",
       " 2,\n",
       " 3,\n",
       " 4,\n",
       " 5,\n",
       " 6,\n",
       " 7,\n",
       " 8,\n",
       " 9,\n",
       " 10,\n",
       " 11,\n",
       " 12,\n",
       " 13,\n",
       " 14,\n",
       " 15,\n",
       " 16,\n",
       " 17,\n",
       " 18,\n",
       " 19,\n",
       " 20,\n",
       " 21,\n",
       " 22,\n",
       " 23,\n",
       " 24,\n",
       " 25,\n",
       " 26,\n",
       " 27,\n",
       " 28,\n",
       " 29,\n",
       " 30]"
      ]
     },
     "execution_count": 3,
     "metadata": {},
     "output_type": "execute_result"
    }
   ],
   "source": [
    "days = list(range(1, 31))\n",
    "days"
   ]
  },
  {
   "cell_type": "code",
   "execution_count": 7,
   "metadata": {},
   "outputs": [
    {
     "data": {
      "image/png": "[encoded data removed]",
      "text/plain": [
       "<Figure size 640x480 with 1 Axes>"
      ]
     },
     "metadata": {},
     "output_type": "display_data"
    },
    {
     "data": {
      "text/plain": [
       "<Figure size 640x480 with 0 Axes>"
      ]
     },
     "metadata": {},
     "output_type": "display_data"
    }
   ],
   "source": [
    "import pickle \n",
    "import numpy as np\n",
    "import matplotlib.pyplot as plt\n",
    "\n",
    "base_fv = None\n",
    "tuned_fv = None\n",
    "days = list(range(6, 26))\n",
    "\n",
    "\n",
    "with open(\"output_pickle/tuned_scenario3_24_Jun_2024_18_43_49_fv.pickle\", \"rb\") as f:\n",
    "    tuned_fv =  pickle.load(f)\n",
    "    tuned_fv = tuned_fv[5:25]\n",
    "\n",
    "    \n",
    "\n",
    "\n",
    "plt.plot(days, tuned_fv, color='blue', label='GA-SKOPT')\n",
    "\n",
    "# Adding labels to the axes\n",
    "plt.xlabel('Day Number (November 2019)')\n",
    "plt.ylabel('Fitness Score')\n",
    "plt.title(\"Fitness Score For Scenario 3\")\n",
    "# Adding a legend\n",
    "plt.legend()\n",
    "\n",
    "plt.xticks(days)\n",
    "# Displaying the plot\n",
    "plt.show()\n",
    "# len(base_fv)\n",
    "\n",
    "plt.savefig('output_graphs/s3_fitness.png')"
   ]
  },
  {
   "cell_type": "code",
   "execution_count": 8,
   "metadata": {},
   "outputs": [
    {
     "data": {
      "text/plain": [
       "array([[1.20294068],\n",
       "       [0.12611571],\n",
       "       [0.06643523],\n",
       "       [0.05784216],\n",
       "       [0.0642768 ],\n",
       "       [0.07755151],\n",
       "       [0.15628796],\n",
       "       [0.24060864],\n",
       "       [0.14914562],\n",
       "       [0.2604559 ],\n",
       "       [0.2824931 ],\n",
       "       [0.29314525],\n",
       "       [0.21831982],\n",
       "       [0.21218989],\n",
       "       [0.19583324],\n",
       "       [0.26555155],\n",
       "       [0.28774253],\n",
       "       [0.1866578 ],\n",
       "       [0.19678124],\n",
       "       [0.20485928]])"
      ]
     },
     "execution_count": 8,
     "metadata": {},
     "output_type": "execute_result"
    }
   ],
   "source": [
    "tuned_fv"
   ]
  },
  {
   "cell_type": "code",
   "execution_count": null,
   "metadata": {},
   "outputs": [],
   "source": []
  }
 ],
 "metadata": {
  "kernelspec": {
   "display_name": "tuning",
   "language": "python",
   "name": "python3"
  },
  "language_info": {
   "codemirror_mode": {
    "name": "ipython",
    "version": 3
   },
   "file_extension": ".py",
   "mimetype": "text/x-python",
   "name": "python",
   "nbconvert_exporter": "python",
   "pygments_lexer": "ipython3",
   "version": "3.8.19"
  }
 },
 "nbformat": 4,
 "nbformat_minor": 2
}
