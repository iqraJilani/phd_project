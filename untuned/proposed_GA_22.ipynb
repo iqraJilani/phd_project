{
 "cells": [
  {
   "cell_type": "code",
   "execution_count": 1,
   "id": "9d902d21",
   "metadata": {},
   "outputs": [],
   "source": [
    "import copy\n",
    "from datetime import datetime\n",
    "import math\n",
    "import matplotlib.pyplot as plt\n",
    "import numpy as np\n",
    "import pandas as pd\n",
    "import random\n",
    "import time\n",
    "import wandb"
   ]
  },
  {
   "cell_type": "code",
   "execution_count": 2,
   "id": "4aa4fef4",
   "metadata": {},
   "outputs": [
    {
     "name": "stderr",
     "output_type": "stream",
     "text": [
      "\u001b[34m\u001b[1mwandb\u001b[0m: Currently logged in as: \u001b[33mjilanii\u001b[0m (\u001b[33mcsm_matthew_england\u001b[0m). Use \u001b[1m`wandb login --relogin`\u001b[0m to force relogin\n",
      "\u001b[34m\u001b[1mwandb\u001b[0m: \u001b[33mWARNING\u001b[0m If you're specifying your api key in code, ensure this code is not shared publicly.\n",
      "\u001b[34m\u001b[1mwandb\u001b[0m: \u001b[33mWARNING\u001b[0m Consider setting the WANDB_API_KEY environment variable, or running `wandb login` from the command line.\n",
      "\u001b[34m\u001b[1mwandb\u001b[0m: Appending key for api.wandb.ai to your netrc file: /nvme/jilanii/.netrc\n"
     ]
    },
    {
     "data": {
      "text/html": [
       "wandb version 0.16.5 is available!  To upgrade, please run:\n",
       " $ pip install wandb --upgrade"
      ],
      "text/plain": [
       "<IPython.core.display.HTML object>"
      ]
     },
     "metadata": {},
     "output_type": "display_data"
    },
    {
     "data": {
      "text/html": [
       "Tracking run with wandb version 0.16.4"
      ],
      "text/plain": [
       "<IPython.core.display.HTML object>"
      ]
     },
     "metadata": {},
     "output_type": "display_data"
    },
    {
     "data": {
      "text/html": [
       "Run data is saved locally in <code>/nvme/jilanii/parameter_tuning/wandb/run-20240330_234021-mh8x28lz</code>"
      ],
      "text/plain": [
       "<IPython.core.display.HTML object>"
      ]
     },
     "metadata": {},
     "output_type": "display_data"
    },
    {
     "data": {
      "text/html": [
       "Syncing run <strong><a href='https://wandb.ai/csm_matthew_england/GA_Parameter_Tuning/runs/mh8x28lz' target=\"_blank\">ga_untuned_30/Mar/2024_23:40:19</a></strong> to <a href='https://wandb.ai/csm_matthew_england/GA_Parameter_Tuning' target=\"_blank\">Weights & Biases</a> (<a href='https://wandb.me/run' target=\"_blank\">docs</a>)<br/>"
      ],
      "text/plain": [
       "<IPython.core.display.HTML object>"
      ]
     },
     "metadata": {},
     "output_type": "display_data"
    },
    {
     "data": {
      "text/html": [
       " View project at <a href='https://wandb.ai/csm_matthew_england/GA_Parameter_Tuning' target=\"_blank\">https://wandb.ai/csm_matthew_england/GA_Parameter_Tuning</a>"
      ],
      "text/plain": [
       "<IPython.core.display.HTML object>"
      ]
     },
     "metadata": {},
     "output_type": "display_data"
    },
    {
     "data": {
      "text/html": [
       " View run at <a href='https://wandb.ai/csm_matthew_england/GA_Parameter_Tuning/runs/mh8x28lz' target=\"_blank\">https://wandb.ai/csm_matthew_england/GA_Parameter_Tuning/runs/mh8x28lz</a>"
      ],
      "text/plain": [
       "<IPython.core.display.HTML object>"
      ]
     },
     "metadata": {},
     "output_type": "display_data"
    }
   ],
   "source": [
    "now = datetime.now()\n",
    "run_name = \"ga_untuned\"\n",
    "current_datetime =now.strftime(\"%d/%b/%Y_%H:%M:%S\")\n",
    "run_name = \"_\".join([run_name, current_datetime])\n",
    "\n",
    "wandb.login(\n",
    "    key=\"a9cbb8af7a708fc893fe0aaf2f50d9e51aed6f34\"\n",
    ")\n",
    "wb = wandb.init(\n",
    "    project = \"GA_Parameter_Tuning\",\n",
    "    name = run_name,\n",
    "    config ={\n",
    "        \"initial_prob_mutation\": 0.3,\n",
    "        \"initial_prob_crossover\": 0.9,\n",
    "        \"no_of_gen\": 2,\n",
    "        \"population_szie\": 2,\n",
    "        \"final_prob_mutation\": 0.3,\n",
    "        \"final_prob_crossover\": 0.9\n",
    "    }, \n",
    "    allow_val_change=True)\n",
    "\n",
    "wb.define_metric(\"gen_num\")\n",
    "wb.define_metric(\"day_num\")\n",
    "\n",
    "wb.define_metric(\"best_fv_gen\", step_metric=\"gen_num\")\n",
    "wb.define_metric(\"best_fv_day\", step_metric=\"day_num\")\n",
    "\n",
    "results_table = wandb.Table(columns = [\"Run_Name\", \"Performance_Ratio\", \"Absolute_Sat\", \"LCOE\", \"Best_fv\", \"Duration\"])\n",
    "#wb.log({\"Results\": results_table})\n",
    "\n",
    "best_fv_days = np.empty((0, 1))\n"
   ]
  },
  {
   "cell_type": "code",
   "execution_count": 3,
   "id": "df704a9a",
   "metadata": {},
   "outputs": [],
   "source": [
    "iter_no = 2\n",
    "con = 40"
   ]
  },
  {
   "cell_type": "code",
   "execution_count": 4,
   "id": "b9ddf9a2",
   "metadata": {},
   "outputs": [],
   "source": [
    "W_1 = 0.4  # weight of objective 1\n",
    "W_2 = 0.4  # weight of objective 2\n",
    "W_3 = 0.2  # weight of objective 3"
   ]
  },
  {
   "cell_type": "code",
   "execution_count": 5,
   "id": "3e5d2582",
   "metadata": {},
   "outputs": [],
   "source": [
    "CH_EFF = 0.99  # battery charge efficiency\n",
    "DIS_EFF = 0.00139  # battery discharge efficiency\n",
    "BATT_CAP = 10560  # battery capacity\n",
    "V_BATT = 48  # battery voltage\n",
    "C_SOC_0 = 6.614 * (10**(-5))\n",
    "C_SOC_MIN = 3.307 * (10**(-3))\n",
    "C_BATT_INIT = 10000\n",
    "DIS_EFF_COST = 0.885\n",
    "BATTERY_CUT_OFF = 0.4  # soc threshold/ cut-off soc\n",
    "ANNUAL_COST = 100\n",
    "R = 0.07\n",
    "INITIAL_COST = 100000\n",
    "UNIT_COST = 0.0005\n",
    "BATT_THRESH_MIN = 0.4\n",
    "BATT_THRESH_MAX = 0.99\n",
    "PEN = 5000\n",
    "SLOT_DAY = 24\n",
    "MONTH_SLOT = 24\n",
    "KWH_TP = 5544000\n",
    "MONTH = 12\n",
    "WEEK_ONE_SLOTS = 168\n",
    "WEEK_TWO_SLOTS = 336"
   ]
  },
  {
   "cell_type": "code",
   "execution_count": 6,
   "id": "d7604422",
   "metadata": {},
   "outputs": [],
   "source": [
    "def soc_factor(soc_stack, soc_t, least_soc, l_soc, tslfc, n, time_delta, bad_charges):\n",
    "    #print(f\"soc stack soc factor shape: {soc_stack.shape}\")\n",
    "    for j in range(len(soc_stack) - len(soc_t), len(soc_stack)):\n",
    "\n",
    "        # obtain least soc since last full charge\n",
    "        if soc_stack[j, 0] < least_soc:\n",
    "            least_soc = soc_stack[j, 0]\n",
    "        elif soc_stack[j, 0] >= BATT_THRESH_MAX:\n",
    "            least_soc = BATT_THRESH_MAX\n",
    "        else:\n",
    "            least_soc = least_soc\n",
    "        l_soc = np.vstack((l_soc, least_soc))\n",
    "\n",
    "        # time since last full charge\n",
    "        if soc_stack[j, 0] >= BATT_THRESH_MAX:\n",
    "            time_delta = 0.00001\n",
    "        else:\n",
    "            time_delta = time_delta + 1\n",
    "        tslfc = np.vstack((tslfc, time_delta))\n",
    "\n",
    "    # no of bad charges\n",
    "        if (soc_stack[j-1, 0] > 0.90) and (soc_stack[j-1, 0] < BATT_THRESH_MAX) and (soc_stack[j, 0] < soc_stack[j-1, 0]) and (soc_stack[j-1, 0] > soc_stack[j-2, 0]):\n",
    "            bad_charges = (0.0025-((0.95-soc_stack[j-1, 0])**2))/0.0025\n",
    "        elif soc_stack[j, 0] >= BATT_THRESH_MAX:\n",
    "            bad_charges = 0\n",
    "        else:\n",
    "            bad_charges = bad_charges\n",
    "        n = np.vstack((n, bad_charges))\n",
    "\n",
    "    return(l_soc, tslfc, n, least_soc, time_delta, bad_charges)"
   ]
  },
  {
   "cell_type": "code",
   "execution_count": 7,
   "id": "21575ee6",
   "metadata": {},
   "outputs": [],
   "source": [
    "def soc_ch_dch(forecast_demand, energy_avail_gen, schedule, soc, least_soc):\n",
    "    energy_total = np.empty((0, 1))  # hourly total energy (PV generation + available battery power)\n",
    "    max_charge_power = 1000\n",
    "    charge_power = np.empty((0, 1))  # hourly charge power of battery\n",
    "    discharge_power = np.empty((0, 1))  # hourly discharge power of battery\n",
    "    soc_t = np.empty((0, 1))\n",
    "    for i in range(len(forecast_demand)):  # soc calculation model , soc, schedule\n",
    "\n",
    "        battery_soc_to_full = BATT_CAP - (BATT_CAP*soc)  # energy required to fill up the battery\n",
    "\n",
    "        # This block determines the charging/discharge power of the battery\n",
    "        batt = energy_avail_gen['gen_cap'][i] - ((forecast_demand.iloc[i, :]*schedule[i, :]).sum())  # amount of energy to charge or discharge\n",
    "\n",
    "        if (batt > 0) and (battery_soc_to_full > 0):  # PV generation is available and battery is not fully charged\n",
    "            if (battery_soc_to_full > max_charge_power):\n",
    "                if (batt > max_charge_power):\n",
    "                    ch = max_charge_power\n",
    "                else:\n",
    "                    ch = batt\n",
    "            else:\n",
    "                if (batt > battery_soc_to_full):\n",
    "                    ch = battery_soc_to_full\n",
    "                else:\n",
    "                    ch = batt\n",
    "            energy_user_batt = 0  # energy discharged from battery\n",
    "\n",
    "        elif (batt > 0) and (battery_soc_to_full == 0):\n",
    "            ch = 0\n",
    "            energy_user_batt = 0\n",
    "\n",
    "        elif (batt < 0):\n",
    "            energy_user_batt = -batt\n",
    "            ch = 0\n",
    "\n",
    "        elif(batt == 0):\n",
    "            ch = 0\n",
    "            energy_user_batt = 0\n",
    "\n",
    "        charge_power = np.vstack((charge_power, ch))  # stack of hourly_charged_power\n",
    "        discharge_power = np.vstack((discharge_power, energy_user_batt))  # stack of hourly_discharged_power\n",
    "\n",
    "        energy_avail_total_single = energy_avail_gen['gen_cap'][i] + ((soc*BATT_CAP) - (BATT_THRESH_MIN*BATT_CAP))\n",
    "        energy_total = np.vstack((energy_total, energy_avail_total_single))  # sum of avilable energy from battery and PV\n",
    "        soc = (soc) + (ch/BATT_CAP) - (energy_user_batt/BATT_CAP)  # soc estimation model - coulomb counting\n",
    "        soc_t = np.vstack((soc_t, soc))  # stack of hourly soc values per day\n",
    "        \n",
    "    return(soc_t, charge_power, discharge_power, energy_total)"
   ]
  },
  {
   "cell_type": "code",
   "execution_count": 8,
   "id": "085157be",
   "metadata": {},
   "outputs": [],
   "source": [
    "def obj_func_1(forecast_demand, schedule, energy_avail_gen, abs_sat, soc, soc_stack, least_soc, time_delta, bad_charges, final_soc):\n",
    "    '''This function computes the performance ratio of the per schedule solution'''\n",
    "    #print(f\"soc stack obj func original shape: {soc_stack.shape}\")\n",
    "    y_f = (forecast_demand*schedule).sum().sum()  # calculation of daily final yield (total energy consumption) for scheduling solution.\n",
    "    y_r = energy_avail_gen.sum().sum()  # calculation of daily reference yield (potential energy)\n",
    "    a_s = ((abs_sat * schedule).sum().sum())/(abs_sat).sum().sum()  # calculation of daily absolute index\n",
    "    p_r = y_f/y_r  # performance ratio /capacity utilisation factor\n",
    "    bad_charges = 0  # no. of bad charges\n",
    "    tslfc = np.empty((0, 1))  # hourly 'time since last full charge'\n",
    "    n = np.empty((0, 1))  # hourly 'number of bad charges'\n",
    "    l_soc = np.empty((0, 1))  # hourly 'least charge since last full recharge'\n",
    "\n",
    "    soc_t, charge_power, discharge_power, energy_total = soc_ch_dch(forecast_demand, energy_avail_gen, schedule, soc, least_soc)\n",
    "    soc_stack = np.vstack((soc_stack, soc_t))\n",
    "\n",
    "    l_soc, tslfc, n = soc_factor(soc_stack, soc_t, least_soc, l_soc, tslfc, n, time_delta, bad_charges)[0:3]\n",
    "    s = np.sum((n/10.8) + np.log(tslfc) + np.log(1-l_soc))\n",
    "    s = (s + (16.1181*SLOT_DAY))/((5.2156*SLOT_DAY)+(16.1181*SLOT_DAY))\n",
    "    fit_val = (W_1*p_r) + (W_2*a_s) - (W_3*s)  # weighted objective function\n",
    "    soc_stack = final_soc  # redeclaring the original soc\n",
    "    return(fit_val, soc_t, energy_total, charge_power, discharge_power, time_delta, least_soc, bad_charges)\n"
   ]
  },
  {
   "cell_type": "code",
   "execution_count": 9,
   "id": "23543df5",
   "metadata": {},
   "outputs": [],
   "source": [
    "def penalty(array, forecast_demand, energy_total, soc_d):\n",
    "    'This penalty function contains the hard constraints'\n",
    "    add_penalties = []\n",
    "\n",
    "    for i in range(len(array)):\n",
    "        hourly_final_yield = (array[i, :] * forecast_demand.iloc[i, :]).sum()\n",
    "        if (hourly_final_yield > energy_total[i]):\n",
    "            pen = PEN\n",
    "            add_penalties = np.append(add_penalties, pen)\n",
    "\n",
    "        if (soc_d[i] < BATT_THRESH_MIN):\n",
    "            pen = PEN\n",
    "            add_penalties = np.append(add_penalties, pen)\n",
    "\n",
    "    sum_add_penalties = sum(add_penalties)\n",
    "    return sum_add_penalties"
   ]
  },
  {
   "cell_type": "code",
   "execution_count": 22,
   "id": "ebef5329",
   "metadata": {},
   "outputs": [],
   "source": [
    "def selection(init_pop, demand_sch, time_delta, bad_charges, least_soc):\n",
    "    '''Selection by Tournament selection'''\n",
    "    print(f\"soc stack selection start shape: {soc_stack.shape}\")\n",
    "    #selection_ss = soc_stack\n",
    "    parents = np.empty((0, len(demand_sch.columns)))  # declares array for parents, two parents at a time\n",
    "    for d in range(2):\n",
    "        # random selection of 3 parents\n",
    "        warrior_1_index = np.random.randint(0, pop)\n",
    "        warrior_2_index = np.random.randint(0, pop)\n",
    "        warrior_3_index = np.random.randint(0, pop)\n",
    "\n",
    "        # This block ensures that the same parents are not selected more than once\n",
    "        while warrior_1_index == warrior_2_index:\n",
    "            warrior_1_index = np.random.randint(0, pop)\n",
    "\n",
    "        while warrior_2_index == warrior_3_index:\n",
    "            warrior_2_index = np.random.randint(0, pop)\n",
    "\n",
    "        while warrior_3_index == warrior_1_index:\n",
    "            warrior_3_index = np.random.randint(0, pop)\n",
    "\n",
    "        # This block extracts the individual warriors from the initial population array.\n",
    "        warrior_1 = init_pop[warrior_1_index*len(demand_sch):(warrior_1_index*len(demand_sch)) + len(demand_sch), 0:len(demand_sch.columns)]\n",
    "        warrior_2 = init_pop[warrior_2_index*len(demand_sch):(warrior_2_index*len(demand_sch)) + len(demand_sch), 0:len(demand_sch.columns)]         \n",
    "        warrior_3 = init_pop[warrior_3_index*len(demand_sch):(warrior_3_index*len(demand_sch)) + len(demand_sch), 0:len(demand_sch.columns)]\n",
    "\n",
    "        # Evaluation of objective function of randomly selected parents\n",
    "\n",
    "        fit_val, soc_d, energy_total = obj_func_1(forecast_demand, warrior_1, energy_avail_gen, abs_sat, soc_stack[-1][0], soc_stack, least_soc, time_delta, bad_charges, final_soc)[0:3]\n",
    "        warrior_1_fitness = fit_val - penalty(warrior_1, forecast_demand, energy_total, soc_d)\n",
    "\n",
    "        fit_val, soc_d, energy_total = obj_func_1(forecast_demand, warrior_2, energy_avail_gen, abs_sat, soc_stack[-1][0], soc_stack, least_soc, time_delta, bad_charges, final_soc)[0:3]\n",
    "        warrior_2_fitness = fit_val - penalty(warrior_2, forecast_demand, energy_total, soc_d)\n",
    "\n",
    "        fit_val, soc_d, energy_total = obj_func_1(forecast_demand, warrior_3, energy_avail_gen, abs_sat, soc_stack[-1][0], soc_stack, least_soc, time_delta, bad_charges, final_soc)[0:3]\n",
    "        warrior_3_fitness = fit_val - penalty(warrior_3, forecast_demand, energy_total, soc_d)\n",
    "\n",
    "        # selecting the warriors with the highest fitness functions as parents\n",
    "        if warrior_1_fitness == max(warrior_1_fitness, warrior_2_fitness, warrior_3_fitness):\n",
    "            winner = warrior_1\n",
    "\n",
    "        elif warrior_2_fitness == max(warrior_1_fitness, warrior_2_fitness, warrior_3_fitness):\n",
    "            winner = warrior_2\n",
    "\n",
    "        else:\n",
    "            winner = warrior_3\n",
    "\n",
    "        parents = np.vstack((parents, winner))\n",
    "\n",
    "    return(parents)"
   ]
  },
  {
   "cell_type": "code",
   "execution_count": 31,
   "id": "ad43f58a",
   "metadata": {},
   "outputs": [],
   "source": [
    "def crossover(parent_1, parent_2):\n",
    "    \n",
    "    rand_co = np.random.rand()  # choose a number at random\n",
    "    if rand_co < p_c:  # check if number selected is less than probability of crossover\n",
    "\n",
    "        r_r = np.random.randint(1, len(demand_sch))\n",
    "        r_c = np.random.randint(1, len(demand_sch.columns)-1)\n",
    "\n",
    "        rand_v_h = np.random.rand()\n",
    "\n",
    "        if rand_v_h < 0.5: #horizontal crossover\n",
    "            first_seg_par_1 = parent_1[:r_r, :]\n",
    "            first_seg_par_2 = parent_2[:r_r, :]\n",
    "\n",
    "            second_seg_par_1 = parent_1[r_r:, :]\n",
    "            second_seg_par_2 = parent_2[r_r:, :]\n",
    "\n",
    "            child_1 = np.concatenate((first_seg_par_1, second_seg_par_2))\n",
    "            child_2 = np.concatenate((first_seg_par_2, second_seg_par_1))\n",
    "\n",
    "            in_row_place_holder = copy.copy(child_1[r_r-1,r_c:])\n",
    "            child_1[r_r-1,r_c:] = copy.copy(child_2[r_r-1,r_c:])\n",
    "            child_2[r_r-1,r_c:] = copy.copy(in_row_place_holder)\n",
    "\n",
    "\n",
    "        else:\n",
    "            first_seg_par_1 = parent_1[:, : r_c]\n",
    "            first_seg_par_2 = parent_2[:, : r_c]\n",
    "\n",
    "            second_seg_par_1 = parent_1[:, r_c :]\n",
    "            second_seg_par_2 = parent_2[:, r_c :]\n",
    "\n",
    "            child_1 = np.concatenate((first_seg_par_1, second_seg_par_2), axis=1)\n",
    "            child_2 = np.concatenate((first_seg_par_2, second_seg_par_1), axis=1)  \n",
    "\n",
    "            in_col_place_id = copy.copy(child_1[r_r:,r_c-1])\n",
    "            child_1[r_r:,r_c-1] = copy.copy(child_2[r_r:,r_c-1])\n",
    "            child_2[r_r:,r_c-1] = copy.copy(in_col_place_id)\n",
    "    \n",
    "    else:\n",
    "        child_1 = np.array(parent_1)\n",
    "        child_2 = np.array(parent_2)\n",
    "\n",
    "            \n",
    "    return(child_1, child_2)\n"
   ]
  },
  {
   "cell_type": "code",
   "execution_count": 32,
   "id": "d3bc35cd",
   "metadata": {},
   "outputs": [],
   "source": [
    "def mutation(child_1, child_2, time_delta, least_soc, bad_charges, ch_gen, dch_gen, energy_total_gen, fitness_values, soc_cummulative, soc_stack, new_population):\n",
    "    \n",
    "    ss_mut = soc_stack\n",
    "    for i in range(1, 3):\n",
    "        rand_mut = np.random.rand()\n",
    "        if rand_mut < p_m:\n",
    "            mut_row = np.random.randint(0, np.size(globals()['child_' + str(i)], 0))\n",
    "            mut_col = np.random.randint(0, np.size(globals()['child_' + str(i)], 1))\n",
    "\n",
    "            if globals()['child_' + str(i)][mut_row][mut_col] == 0:\n",
    "               globals()['child_' + str(i)][mut_row][mut_col] = 1\n",
    "\n",
    "            else:\n",
    "                globals()['child_' + str(i)][mut_row][mut_col] = 0\n",
    "\n",
    "        globals()['mut_child_' + str(i)] = globals()['child_' + str(i)]\n",
    "\n",
    "        globals()['of_mut_child_' + str(i)], soc_d, energy_total, charge_power, discharge_power = obj_func_1(forecast_demand, globals()['mut_child_' + str(i)], energy_avail_gen, abs_sat, soc_stack[-1][0], soc_stack, least_soc, time_delta, bad_charges, final_soc)[0:5]\n",
    "        ch_gen = np.vstack((ch_gen, charge_power))\n",
    "        dch_gen = np.vstack((dch_gen, discharge_power))\n",
    "        energy_total_gen = np.vstack((energy_total_gen, energy_total))\n",
    "        globals()['pen_mut_child_' + str(i)] = penalty(globals()['mut_child_' + str(i)], forecast_demand, energy_total, soc_d)\n",
    "        globals()['of_mut_child_' + str(i)] = globals()['of_mut_child_' + str(i)] - globals()['pen_mut_child_' + str(i)]\n",
    "        fitness_values = np.vstack((fitness_values, globals()['of_mut_child_' + str(i)]))  # stack-up fitness values\n",
    "        soc_cummulative = np.vstack((soc_cummulative, soc_d))  # stacks up the soc for each generation\n",
    "        new_population = np.vstack((new_population, globals()['mut_child_' + str(i)]))\n",
    "        soc_stack = final_soc\n",
    "\n",
    "    return(fitness_values, new_population, soc_cummulative, ch_gen, dch_gen, energy_total_gen)\n",
    "\n"
   ]
  },
  {
   "cell_type": "code",
   "execution_count": 35,
   "id": "957aa921",
   "metadata": {
    "tags": [
     "day_loop"
    ]
   },
   "outputs": [],
   "source": [
    "# user-satisfaction\n",
    "data = pd.read_excel('hall_declining_scenario_data.xlsx', 'Sheet3')  # energy usage data\n",
    "data['Potential_PV_power_W'][data['Potential_PV_power_W'] < 0] = 0\n",
    "data = data.drop(['CPEHC', 'CPER1', 'CPESC'], 1)\n",
    "data_2 = copy.copy(data)\n",
    "data.drop(index=data.index[0:WEEK_TWO_SLOTS], axis=0, inplace=True)\n",
    "data = data.reset_index(drop=True)\n",
    "\n",
    "data_2 = data_2.filter(regex='CPE|LVL')  # extract CPE and socket data\n",
    "data_2 = data_2.astype(float)\n",
    "print(len(data_2))\n",
    "abs_sat_total = np.empty((0, len(data_2.columns)))\n",
    "\n",
    "data_2.values[data_2 > 0] = 1\n",
    "\n",
    "for b in range(14, int(len(data_2)/SLOT_DAY)):\n",
    "    print(f\"day {b} satisfaction\")\n",
    "\n",
    "    day = data_2.iloc[(b*SLOT_DAY):(b*SLOT_DAY+SLOT_DAY)]\n",
    "    one_week = data_2.iloc[((b*SLOT_DAY)-WEEK_ONE_SLOTS):((b*SLOT_DAY)-WEEK_ONE_SLOTS)+SLOT_DAY]\n",
    "    two_week = data_2.iloc[((b*SLOT_DAY)-WEEK_TWO_SLOTS):((b*SLOT_DAY)-WEEK_TWO_SLOTS)+SLOT_DAY]\n",
    "\n",
    "    day = day.reset_index(drop=True)\n",
    "    one_week = one_week.reset_index(drop=True)\n",
    "    two_week = two_week.reset_index(drop=True)\n",
    "\n",
    "    day_sat = (day + one_week + two_week)/3  # Find the average\n",
    "    abs_sat_total = np.vstack((abs_sat_total, day_sat))\n",
    "\n",
    "\n",
    "abs_sat_total = pd.DataFrame(abs_sat_total)\n",
    "abs_sat_total.columns = data_2.columns\n",
    "\n",
    "data_2.drop(index=data_2.index[0:WEEK_TWO_SLOTS], axis=0, inplace=True)\n",
    "data_2 = data_2.reset_index(drop=True)\n",
    "\n",
    "soc = data.loc[0, 'Battery Monitor State of charge %']/100\n",
    "least_soc = data.loc[0, 'Battery Monitor State of charge %']/100  # least soc since last full charge\n",
    "final_soc = np.full((SLOT_DAY, 1), soc)\n",
    "time_delta = 0.00001  # time since last full charge\n",
    "bad_charges = 0  # number of bad charges\n",
    "final_schedule_cum = np.empty((0, len(day.columns)))\n",
    "final_soc_cum = np.empty((0, 1))\n",
    "final_ch_cum = np.empty((0, 1))\n",
    "final_dch_cum = np.empty((0, 1))\n",
    "final_energy_total_cum = np.empty((0, 1))\n",
    "final_energy_avail_total = np.empty((0, 1))\n",
    "l_soc_cum = np.empty((0, 1))\n",
    "tslfc_cum = np.empty((0, 1))\n",
    "n_cum = np.empty((0, 1))\n",
    "\n",
    "\n",
    "day_counter = 0\n",
    "\n",
    "\n",
    "for u in range(int((len(data))/SLOT_DAY)):\n",
    "    print(u)\n",
    "    df = data.iloc[u*SLOT_DAY:u*SLOT_DAY+SLOT_DAY, :]  # picks the consumption data for day x\n",
    "    forecast_demand = df.filter(regex='CPE|LVL')  # extract CPE and socket data\n",
    "    forecast_demand = forecast_demand.reset_index(drop=True)\n",
    "\n",
    "    energy_avail_gen = pd.DataFrame(data['Potential_PV_power_W'][u*SLOT_DAY:u*SLOT_DAY+SLOT_DAY])  # Potential PV generation data of day x\n",
    "    energy_avail_gen.columns = ['gen_cap']  # renaming the PV generation data column\n",
    "    energy_avail_gen = energy_avail_gen.reset_index(drop=True)\n",
    "    abs_sat = abs_sat_total.iloc[u*SLOT_DAY:u*SLOT_DAY+SLOT_DAY, :]  # absolute satisfaction of day x\n",
    "    abs_sat = abs_sat.reset_index(drop=True)\n",
    "    demand_sch = data_2.iloc[u*SLOT_DAY:u*SLOT_DAY+SLOT_DAY, :]  # binary demand of day x\n",
    "\n",
    "    demand_sch = demand_sch.reset_index(drop=True)\n",
    "    demand_sch = demand_sch.astype(int)\n",
    "    actual_demand = copy.copy(demand_sch)\n",
    "    schedule = np.array(copy.copy(demand_sch))  # Copy of schedule\n",
    "    soc_stack = final_soc\n",
    "    print(f\"soc stack day shape: {soc_stack.shape}\")\n",
    "    mean_fitness_value = np.empty((0, 1))\n",
    "\n",
    "    init_pop = np.empty((0, len(demand_sch.columns)))  # declaration of size of initial population\n",
    "    sch_temp = len(demand_sch.columns)\n",
    "    best_in_generations = np.empty((0, len(demand_sch.columns)))  # stack of best schedules in generations.\n",
    "    best_fv = np.empty((0, 1))  # stack of best fitness values in each generation\n",
    "    final_schedule_sorting = np.empty((0, len(demand_sch.columns)))\n",
    "    best_soc_in_generations = np.empty((0, 1))  # stack of best soc in generations\n",
    "    best_ch_in_generations = np.empty((0, 1))  # stack of best charges in generations\n",
    "    best_dch_in_generations = np.empty((0, 1))  # stack of best discharges in generations\n",
    "    best_et_in_generations = np.empty((0, 1))  # stack of best energy_total in every generation\n",
    "    tslfc = np.empty((0, 1))  # hourly time since last full charge\n",
    "    n = np.empty((0, 1))  # hourly number of bad charges\n",
    "    l_soc = np.empty((0, 1))  # least soc since last full charge\n",
    "    capacity_shortage = 0  # capacity shortage value\n",
    "    energy_avail_total = np.array(forecast_demand.sum(axis=1)*(1-capacity_shortage))\n",
    "    best_energy_avail_total_generations = np.empty((0, 1))\n",
    "    battery_current = np.empty((0, 1))  # battery current\n",
    "    soc_cummulative = np.empty((0, 1))  # stack of all soc for all chromosomes/ schedules in a generation\n",
    "    start = time.time()\n",
    "    # Definition of GA parameters\n",
    "    p_c = 0.9\n",
    "    p_m = 0.3\n",
    "    k = 3\n",
    "    pop = 2\n",
    "    gen = 2\n",
    "\n",
    "    # Generation of initial population\n",
    "    ''' The algorithm generates it's initial population by picking a column and shuffle the chromosomes in that column'''\n",
    "    for a in range(int(pop)):\n",
    "        new_sch = demand_sch.apply(np.random.permutation, axis=1)\n",
    "        new_sch = pd.DataFrame([list(x) for x in new_sch])\n",
    "        init_pop = np.vstack((init_pop, new_sch))  # stack the populations together\n",
    "        lsoc_stack_gen = np.empty((0, 1))\n",
    "        tslfc_stack_gen = np.empty((0, 1))\n",
    "        n_stack_gen = np.empty((0, 1))\n",
    "    stop_crit_counter = 0\n",
    "    init_fv = -300\n",
    "    # generation iteration\n",
    "    for b in range(int(gen)):\n",
    "        \n",
    "        fitness_values = np.empty((0, 1))  # declare array of fitness values\n",
    "        new_population = np.empty((0, len(demand_sch.columns)))  # declare array of new population in new generation\n",
    "        soc_cummulative = np.empty((0, 1))\n",
    "        energy_available_total_cummulative = np.empty((0, 1))\n",
    "        ch_gen = np.empty((0, 1))\n",
    "        dch_gen = np.empty((0, 1))\n",
    "        energy_total_gen = np.empty((0, 1))\n",
    "\n",
    "        for c in range(int(pop/2)):\n",
    "            \n",
    "            parents = selection(init_pop, demand_sch, time_delta, bad_charges, least_soc)\n",
    "            parent_1 = parents[0:len(demand_sch), :]\n",
    "            parent_2 = parents[len(demand_sch):, :]\n",
    "            child_1 = np.empty((0, len(demand_sch)))\n",
    "            child_2 = np.empty((0, len(demand_sch)))\n",
    "            child_1, child_2 = crossover(parent_1, parent_2)\n",
    "            fitness_values, new_population, soc_cummulative, ch_gen, dch_gen, energy_total_gen = mutation(child_1, child_2, time_delta, least_soc, bad_charges, ch_gen, dch_gen, energy_total_gen, fitness_values, soc_cummulative, soc_stack, new_population)\n",
    "\n",
    "        sorted_index = np.argsort(fitness_values[:, 0])[::-1]  # sort position of fitness values in descending order #give position\n",
    "        sorted_fitness_value = np.sort(fitness_values[:, 0])[::-1]  # sort in descending order\n",
    "        mean_fitness_value = np.vstack((mean_fitness_value, np.mean(sorted_fitness_value)))\n",
    "        best_fv = np.vstack((best_fv, sorted_fitness_value[0]))  # stacks the best fitness value in every generation\n",
    "        best = new_population[sorted_index[0]*len(demand_sch):sorted_index[0]*len(demand_sch) + len(demand_sch), :]  # fetch the best schedule from the stack of schedules in generation.\n",
    "        best_soc = soc_cummulative[sorted_index[0]*len(demand_sch):sorted_index[0]*len(demand_sch) + len(demand_sch), :]\n",
    "        best_charge_power = ch_gen[sorted_index[0]*len(demand_sch):sorted_index[0]*len(demand_sch) + len(demand_sch), :]\n",
    "        best_discharge_power = dch_gen[sorted_index[0]*len(demand_sch):sorted_index[0]*len(demand_sch) + len(demand_sch), :]\n",
    "        best_energy_total = energy_total_gen[sorted_index[0]*len(demand_sch):sorted_index[0]*len(demand_sch) + len(demand_sch), :]\n",
    "        best_in_generations = np.vstack((best_in_generations, best))  # stacks the best schedules in each generation together\n",
    "        best_soc_in_generations = np.vstack((best_soc_in_generations, best_soc))\n",
    "        best_ch_in_generations = np.vstack((best_ch_in_generations, best_charge_power))\n",
    "        best_dch_in_generations = np.vstack((best_dch_in_generations, best_discharge_power))\n",
    "        best_et_in_generations = np.vstack((best_et_in_generations, best_energy_total))\n",
    "        init_pop = new_population\n",
    "        soc_stack = final_soc\n",
    "        \n",
    "        if sorted_fitness_value[0] - init_fv == 0:\n",
    "            stop_crit_counter = stop_crit_counter + 1\n",
    "        \n",
    "        else:\n",
    "            stop_crit_counter = 0\n",
    "            \n",
    "        if stop_crit_counter == con:\n",
    "            break\n",
    "            \n",
    "        init_fv = sorted_fitness_value[0]\n",
    "\n",
    "    sorted_schedule_index = np.argsort(best_fv[:, 0])[::-1]  # sorts the fitness values of the generational best values\n",
    "    final_schedule = best_in_generations[sorted_schedule_index[0]*len(demand_sch):sorted_schedule_index[0]*len(demand_sch) + len(demand_sch), :]\n",
    "    final_soc = best_soc_in_generations[sorted_schedule_index[0]*len(demand_sch):sorted_schedule_index[0]*len(demand_sch) + len(demand_sch), :]\n",
    "    final_ch = best_ch_in_generations[sorted_schedule_index[0]*len(demand_sch):sorted_schedule_index[0]*len(demand_sch) + len(demand_sch), :]\n",
    "    final_dch = best_dch_in_generations[sorted_schedule_index[0]*len(demand_sch):sorted_schedule_index[0]*len(demand_sch) + len(demand_sch), :]\n",
    "    final_energy_total = best_et_in_generations[sorted_schedule_index[0]*len(demand_sch):sorted_schedule_index[0]*len(demand_sch) + len(demand_sch), :]\n",
    "    final_energy_avail_total = best_energy_avail_total_generations[sorted_schedule_index[0]*len(demand_sch):sorted_schedule_index[0]*len(demand_sch) + len(demand_sch), :]\n",
    "\n",
    "    final_schedule_cum = np.vstack((final_schedule_cum, final_schedule))\n",
    "    print(f\"day soc shape: {final_soc.shape}\")\n",
    "    final_soc_cum = np.vstack((final_soc_cum, final_soc))\n",
    "    final_ch_cum = np.vstack((final_ch_cum, final_ch))\n",
    "    final_dch_cum = np.vstack((final_dch_cum, final_dch))\n",
    "    final_energy_total_cum = np.vstack((final_energy_total_cum, final_energy_total))\n",
    "    final_energy_avail_total = np.vstack((final_energy_avail_total, final_energy_avail_total))\n",
    "    soc_stack = final_soc\n",
    "    soc = final_soc[-1][0]\n",
    "    day_counter = day_counter + 1\n",
    "\n",
    "    least_soc, time_delta, bad_charges = soc_factor(soc_stack, final_soc, least_soc, l_soc, tslfc, n, time_delta, bad_charges)[3:]\n",
    "    end = time.time()\n",
    "    \n",
    "\n"
   ]
  },
  {
   "cell_type": "code",
   "execution_count": null,
   "id": "8839e1bd",
   "metadata": {},
   "outputs": [],
   "source": []
  },
  {
   "cell_type": "code",
   "execution_count": 36,
   "id": "b0688c28",
   "metadata": {},
   "outputs": [
    {
     "name": "stderr",
     "output_type": "stream",
     "text": [
      "/tmp/ipykernel_7892/2913391894.py:4: FutureWarning: Your version of xlrd is 1.2.0. In xlrd >= 2.0, only the xls format is supported. As a result, the openpyxl engine will be used if it is installed and the engine argument is not specified. Install openpyxl instead.\n",
      "  data = pd.read_excel('hall_declining_scenario_data.xlsx', 'Sheet3')  # energy usage data\n",
      "/tmp/ipykernel_7892/2913391894.py:5: SettingWithCopyWarning: \n",
      "A value is trying to be set on a copy of a slice from a DataFrame\n",
      "\n",
      "See the caveats in the documentation: https://pandas.pydata.org/pandas-docs/stable/user_guide/indexing.html#returning-a-view-versus-a-copy\n",
      "  data['Potential_PV_power_W'][data['Potential_PV_power_W'] < 0] = 0\n"
     ]
    },
    {
     "name": "stdout",
     "output_type": "stream",
     "text": [
      "1056\n",
      "0\n",
      "gen no: 0\n"
     ]
    },
    {
     "ename": "NameError",
     "evalue": "name 'forecast_demand' is not defined",
     "output_type": "error",
     "traceback": [
      "\u001b[0;31m---------------------------------------------------------------------------\u001b[0m",
      "\u001b[0;31mNameError\u001b[0m                                 Traceback (most recent call last)",
      "Cell \u001b[0;32mIn[36], line 3\u001b[0m\n\u001b[1;32m      1\u001b[0m pop \u001b[38;5;241m=\u001b[39m \u001b[38;5;241m400\u001b[39m\n\u001b[1;32m      2\u001b[0m gen \u001b[38;5;241m=\u001b[39m \u001b[38;5;241m200\u001b[39m\n\u001b[0;32m----> 3\u001b[0m best_fv \u001b[38;5;241m=\u001b[39m \u001b[43mevaluate_ga\u001b[49m\u001b[43m(\u001b[49m\u001b[43m(\u001b[49m\u001b[38;5;241;43m0.3\u001b[39;49m\u001b[43m,\u001b[49m\u001b[43m \u001b[49m\u001b[38;5;241;43m0.9\u001b[39;49m\u001b[43m)\u001b[49m\u001b[43m)\u001b[49m\n",
      "Cell \u001b[0;32mIn[35], line 137\u001b[0m, in \u001b[0;36mevaluate_ga\u001b[0;34m(params)\u001b[0m\n\u001b[1;32m    135\u001b[0m     \u001b[38;5;28mglobals\u001b[39m()[\u001b[38;5;124m'\u001b[39m\u001b[38;5;124mchild_1\u001b[39m\u001b[38;5;124m'\u001b[39m] \u001b[38;5;241m=\u001b[39m child_1\n\u001b[1;32m    136\u001b[0m     \u001b[38;5;28mglobals\u001b[39m()[\u001b[38;5;124m'\u001b[39m\u001b[38;5;124mchild_2\u001b[39m\u001b[38;5;124m'\u001b[39m] \u001b[38;5;241m=\u001b[39m child_2\n\u001b[0;32m--> 137\u001b[0m     fitness_values, new_population, soc_cummulative, ch_gen, dch_gen, energy_total_gen \u001b[38;5;241m=\u001b[39m \u001b[43mmutation\u001b[49m\u001b[43m(\u001b[49m\u001b[43mp_m\u001b[49m\u001b[43m,\u001b[49m\u001b[43m \u001b[49m\u001b[43mchild_1\u001b[49m\u001b[43m,\u001b[49m\u001b[43m \u001b[49m\u001b[43mchild_2\u001b[49m\u001b[43m,\u001b[49m\u001b[43m \u001b[49m\u001b[43mtime_delta\u001b[49m\u001b[43m,\u001b[49m\u001b[43m \u001b[49m\u001b[43mleast_soc\u001b[49m\u001b[43m,\u001b[49m\u001b[43m \u001b[49m\u001b[43mbad_charges\u001b[49m\u001b[43m,\u001b[49m\u001b[43m \u001b[49m\u001b[43mch_gen\u001b[49m\u001b[43m,\u001b[49m\u001b[43m \u001b[49m\u001b[43mdch_gen\u001b[49m\u001b[43m,\u001b[49m\u001b[43m \u001b[49m\u001b[43menergy_total_gen\u001b[49m\u001b[43m,\u001b[49m\u001b[43m \u001b[49m\u001b[43mfitness_values\u001b[49m\u001b[43m,\u001b[49m\u001b[43m \u001b[49m\u001b[43msoc_cummulative\u001b[49m\u001b[43m,\u001b[49m\u001b[43m \u001b[49m\u001b[43msoc_stack\u001b[49m\u001b[43m,\u001b[49m\u001b[43m \u001b[49m\u001b[43mnew_population\u001b[49m\u001b[43m)\u001b[49m\n\u001b[1;32m    139\u001b[0m sorted_index \u001b[38;5;241m=\u001b[39m np\u001b[38;5;241m.\u001b[39margsort(fitness_values[:, \u001b[38;5;241m0\u001b[39m])[::\u001b[38;5;241m-\u001b[39m\u001b[38;5;241m1\u001b[39m]  \u001b[38;5;66;03m# sort position of fitness values in descending order #give position\u001b[39;00m\n\u001b[1;32m    140\u001b[0m sorted_fitness_value \u001b[38;5;241m=\u001b[39m np\u001b[38;5;241m.\u001b[39msort(fitness_values[:, \u001b[38;5;241m0\u001b[39m])[::\u001b[38;5;241m-\u001b[39m\u001b[38;5;241m1\u001b[39m]  \u001b[38;5;66;03m# sort in descending order\u001b[39;00m\n",
      "Cell \u001b[0;32mIn[32], line 18\u001b[0m, in \u001b[0;36mmutation\u001b[0;34m(p_m, child_1, child_2, time_delta, least_soc, bad_charges, ch_gen, dch_gen, energy_total_gen, fitness_values, soc_cummulative, soc_stack, new_population)\u001b[0m\n\u001b[1;32m     14\u001b[0m         \u001b[38;5;28mglobals\u001b[39m()[\u001b[38;5;124m'\u001b[39m\u001b[38;5;124mchild_\u001b[39m\u001b[38;5;124m'\u001b[39m \u001b[38;5;241m+\u001b[39m \u001b[38;5;28mstr\u001b[39m(i)][mut_row][mut_col] \u001b[38;5;241m=\u001b[39m \u001b[38;5;241m0\u001b[39m\n\u001b[1;32m     16\u001b[0m \u001b[38;5;28mglobals\u001b[39m()[\u001b[38;5;124m'\u001b[39m\u001b[38;5;124mmut_child_\u001b[39m\u001b[38;5;124m'\u001b[39m \u001b[38;5;241m+\u001b[39m \u001b[38;5;28mstr\u001b[39m(i)] \u001b[38;5;241m=\u001b[39m \u001b[38;5;28mglobals\u001b[39m()[\u001b[38;5;124m'\u001b[39m\u001b[38;5;124mchild_\u001b[39m\u001b[38;5;124m'\u001b[39m \u001b[38;5;241m+\u001b[39m \u001b[38;5;28mstr\u001b[39m(i)]\n\u001b[0;32m---> 18\u001b[0m \u001b[38;5;28mglobals\u001b[39m()[\u001b[38;5;124m'\u001b[39m\u001b[38;5;124mof_mut_child_\u001b[39m\u001b[38;5;124m'\u001b[39m \u001b[38;5;241m+\u001b[39m \u001b[38;5;28mstr\u001b[39m(i)], soc_d, energy_total, charge_power, discharge_power \u001b[38;5;241m=\u001b[39m obj_func_1(\u001b[43mforecast_demand\u001b[49m, \u001b[38;5;28mglobals\u001b[39m()[\u001b[38;5;124m'\u001b[39m\u001b[38;5;124mmut_child_\u001b[39m\u001b[38;5;124m'\u001b[39m \u001b[38;5;241m+\u001b[39m \u001b[38;5;28mstr\u001b[39m(i)], energy_avail_gen, abs_sat, soc_stack[\u001b[38;5;241m-\u001b[39m\u001b[38;5;241m1\u001b[39m][\u001b[38;5;241m0\u001b[39m], soc_stack, least_soc, time_delta, bad_charges, final_soc)[\u001b[38;5;241m0\u001b[39m:\u001b[38;5;241m5\u001b[39m]\n\u001b[1;32m     19\u001b[0m ch_gen \u001b[38;5;241m=\u001b[39m np\u001b[38;5;241m.\u001b[39mvstack((ch_gen, charge_power))\n\u001b[1;32m     20\u001b[0m dch_gen \u001b[38;5;241m=\u001b[39m np\u001b[38;5;241m.\u001b[39mvstack((dch_gen, discharge_power))\n",
      "\u001b[0;31mNameError\u001b[0m: name 'forecast_demand' is not defined"
     ]
    }
   ],
   "source": []
  },
  {
   "cell_type": "code",
   "execution_count": 37,
   "id": "89edec8e",
   "metadata": {},
   "outputs": [],
   "source": [
    "soc_stack = 15\n",
    "final_soc = 1\n",
    "def change_soc_stack(soc_stack):\n",
    "    print(soc_stack)\n",
    "    \n",
    "    soc_stack = final_soc\n",
    "    print(soc_stack)"
   ]
  },
  {
   "cell_type": "code",
   "execution_count": 39,
   "id": "395d9498",
   "metadata": {},
   "outputs": [
    {
     "name": "stdout",
     "output_type": "stream",
     "text": [
      "15\n",
      "1\n",
      "15\n"
     ]
    }
   ],
   "source": [
    "change_soc_stack(soc_stack)\n",
    "print(soc_stack)"
   ]
  },
  {
   "cell_type": "code",
   "execution_count": null,
   "id": "1b9eabe0",
   "metadata": {},
   "outputs": [],
   "source": [
    "# e_load = data.filter(regex='CPE|LVL').iloc[0:day_counter*SLOT_DAY, :]*final_schedule_cum[:, :]\n",
    "# e_demand = data.filter(regex='CPE|LVL').iloc[0:day_counter*SLOT_DAY, :]\n",
    "# e_demand_plot = np.sum(e_demand, axis=1)\n",
    "# e_load_plot = np.sum(e_load, axis=1)\n",
    "\n",
    "# pv_load = np.empty((0, 1))\n",
    "\n",
    "# for i in range(len(final_schedule_cum)):\n",
    "#     if data['Potential_PV_power_W'][i] > 0:\n",
    "#         if (data['Potential_PV_power_W'][i] - final_ch_cum[i]) >= e_load_plot[i]:\n",
    "#             pv_load_t = e_load_plot[i]\n",
    "\n",
    "#         elif (data['Potential_PV_power_W'][i] - final_ch_cum[i]) < e_load_plot[i]:\n",
    "#             pv_load_t = data['Potential_PV_power_W'][i] - final_ch_cum[i]\n",
    "\n",
    "#     else:\n",
    "#         pv_load_t = 0\n",
    "\n",
    "#     pv_load = np.vstack((pv_load, pv_load_t))\n",
    "\n",
    "# y_f = (data.filter(regex='CPE|LVL').iloc[0:day_counter*SLOT_DAY, :]*final_schedule_cum[:, :]).sum().sum()  # [:,:-1] calculation of daily final yield for scheduling solution.\n",
    "# y_r = data['Potential_PV_power_W'].sum().sum()  # calculation of daily reference yield\n",
    "# a_s = ((abs_sat_total.iloc[0:day_counter*SLOT_DAY, :] * final_schedule_cum[:, :]*data_2).sum().sum())/(abs_sat_total.iloc[0:day_counter*SLOT_DAY, :]*data_2).sum().sum()  # calculation of daily absolute index\n",
    "# p_r = y_f/y_r\n",
    "\n",
    "# # Calculating the hourly battery current\n",
    "# battery_current = np.empty((0, 1))\n",
    "# for p in range(len(final_dch_cum)):\n",
    "#     if final_dch_cum[p] > 0 and final_ch_cum[p] == 0:\n",
    "#         i_bat = -final_dch_cum[p]/V_BATT\n",
    "\n",
    "#     elif final_ch_cum[p] > 0 and final_dch_cum[p] == 0:\n",
    "#         i_bat = (final_ch_cum[p]/V_BATT)*CH_EFF\n",
    "\n",
    "#     elif final_ch_cum[p] == 0 and final_dch_cum[p] == 0:\n",
    "#         i_bat = 0\n",
    "\n",
    "#     battery_current = np.vstack((battery_current, i_bat))\n",
    "\n",
    "# tslfc_cum = np.empty((0, 1))  # hourly time since last full charge\n",
    "# n_cum = np.empty((0, 1))  # hourly number of bad charges\n",
    "# l_soc_cum = np.empty((0, 1))\n",
    "\n",
    "# first_discharge = np.empty((0, 1))\n",
    "\n",
    "# if battery_current[0, 0] < 0:\n",
    "#     f_d = battery_current[0, 0]\n",
    "\n",
    "# else:\n",
    "#     f_d = -0.0001\n",
    "\n",
    "# least_soc = data.loc[0, 'Battery Monitor State of charge %']/100  # least soc since last full charge\n",
    "# time_delta = 0.00001  # time since last full charge\n",
    "# bad_charges = 0  # number of bad charges\n",
    "\n",
    "# soc_t = np.empty((MONTH_SLOT, 1))\n",
    "# l_soc_cum, tslfc_cum, n_cum = soc_factor(final_soc_cum, soc_t, least_soc, l_soc, tslfc, n, time_delta, bad_charges)[0:3]\n",
    "\n",
    "# # Calculating first_discharge current after full charge\n",
    "# for j in range(1, len(final_soc_cum)):\n",
    "#     if (final_soc_cum[j, 0] < BATT_THRESH_MAX) and (final_soc_cum[j-1, 0] >= BATT_THRESH_MAX):\n",
    "#         f_d = battery_current[j, 0]\n",
    "#     else:\n",
    "#         f_d = f_d\n",
    "\n",
    "#     first_discharge = np.vstack((first_discharge, f_d))\n",
    "\n",
    "# if first_discharge[0, 0] == -0.0001:\n",
    "#     first_discharge = np.vstack((-0.0001, first_discharge))\n",
    "# else:\n",
    "#     first_discharge = np.vstack((first_discharge[0, 0], first_discharge))\n",
    "\n",
    "# # calculating weighted throughput and battery lifetime\n",
    "# n_cols = n_cum.shape[1]\n",
    "# all_n_cum = np.empty((0, n_cols))\n",
    "\n",
    "# for i in range(30):\n",
    "#     n_cum = np.vstack((all_n_cum, n_cum))\n",
    "\n",
    "\n",
    "# f_i_n = ((-43.9/first_discharge)**(1/2)) * ((np.exp(_n_cum/3.6))**(1/3))\n",
    "# f_soc = 1 + (C_SOC_0 + C_SOC_MIN*(1-l_soc_cum))*f_i_n*tslfc_cum\n",
    "# weighted_throughput = f_soc * -final_dch_cum\n",
    "# weighted_througput_cummulative = np.sum(weighted_throughput) * MONTH\n",
    "# battery_lifetime = KWH_TP / -(weighted_througput_cummulative)\n",
    "\n",
    "# cap_shortage = (e_demand_plot.sum() - y_f) * MONTH\n",
    "\n",
    "\n",
    "# num = 0\n",
    "# den = 0\n",
    "# for c in range(int(battery_lifetime)):\n",
    "#     num = num + (y_f*UNIT_COST*MONTH/(1+R)**c)\n",
    "\n",
    "#     den = den + ((y_f*MONTH)/(1+R)**c)\n",
    "\n",
    "\n",
    "# lcoe = (INITIAL_COST + num) / den\n",
    "\n",
    "# fig, ax = plt.subplots()\n",
    "# fig.subplots_adjust(right=1)\n",
    "# plt.plot(list(range(1, b+2)), best_fv, marker='+', color='red', label='best fitness value')\n",
    "# plt.legend()"
   ]
  },
  {
   "cell_type": "code",
   "execution_count": null,
   "id": "f78469d6",
   "metadata": {},
   "outputs": [],
   "source": [
    "all_n_cum.shape"
   ]
  },
  {
   "cell_type": "code",
   "execution_count": null,
   "id": "d65d8ad5",
   "metadata": {},
   "outputs": [],
   "source": [
    "python day_"
   ]
  },
  {
   "cell_type": "code",
   "execution_count": null,
   "id": "23c6b970",
   "metadata": {},
   "outputs": [],
   "source": [
    "lcoe\n"
   ]
  },
  {
   "cell_type": "code",
   "execution_count": null,
   "id": "6d399c94",
   "metadata": {},
   "outputs": [],
   "source": [
    "battery_lifetime"
   ]
  },
  {
   "cell_type": "code",
   "execution_count": null,
   "id": "65b2e650",
   "metadata": {},
   "outputs": [],
   "source": [
    "a_s"
   ]
  },
  {
   "cell_type": "code",
   "execution_count": null,
   "id": "c71d442e",
   "metadata": {},
   "outputs": [],
   "source": [
    "p_r"
   ]
  },
  {
   "cell_type": "code",
   "execution_count": null,
   "id": "e1d6b1ea",
   "metadata": {},
   "outputs": [],
   "source": [
    "cap_shortage"
   ]
  },
  {
   "cell_type": "code",
   "execution_count": null,
   "id": "952d3e80",
   "metadata": {},
   "outputs": [],
   "source": [
    "best_fv"
   ]
  },
  {
   "cell_type": "code",
   "execution_count": null,
   "id": "ec38ff73",
   "metadata": {},
   "outputs": [],
   "source": [
    "final_schedule"
   ]
  },
  {
   "cell_type": "code",
   "execution_count": null,
   "id": "b8ea3519",
   "metadata": {},
   "outputs": [],
   "source": [
    "final_soc"
   ]
  },
  {
   "cell_type": "code",
   "execution_count": null,
   "id": "0d03b9fd",
   "metadata": {},
   "outputs": [],
   "source": [
    "duration = end - start"
   ]
  },
  {
   "cell_type": "code",
   "execution_count": null,
   "id": "0e309cb9",
   "metadata": {},
   "outputs": [],
   "source": [
    "tslfc_cum"
   ]
  },
  {
   "cell_type": "code",
   "execution_count": null,
   "id": "cdeee26f",
   "metadata": {},
   "outputs": [],
   "source": [
    "final_soc_cum"
   ]
  },
  {
   "cell_type": "code",
   "execution_count": null,
   "id": "8726d320",
   "metadata": {},
   "outputs": [],
   "source": [
    "l_soc_cum"
   ]
  },
  {
   "cell_type": "code",
   "execution_count": null,
   "id": "4effc72f",
   "metadata": {},
   "outputs": [],
   "source": [
    "n_cum"
   ]
  },
  {
   "cell_type": "code",
   "execution_count": null,
   "id": "04c252e6",
   "metadata": {},
   "outputs": [],
   "source": [
    "soc_stack"
   ]
  },
  {
   "cell_type": "code",
   "execution_count": null,
   "id": "86f3362d",
   "metadata": {},
   "outputs": [],
   "source": [
    "\n",
    "fig, ax = plt.subplots()\n",
    "fig.subplots_adjust(right=1)\n",
    "plt.plot(list(range(1, b+2)), best_fv, marker='+', color='red', label='best fitness value')\n",
    "plt.legend()"
   ]
  },
  {
   "cell_type": "code",
   "execution_count": null,
   "id": "b1ab59d7",
   "metadata": {},
   "outputs": [],
   "source": [
    "duration"
   ]
  },
  {
   "cell_type": "code",
   "execution_count": null,
   "id": "a8542966",
   "metadata": {},
   "outputs": [],
   "source": [
    "#The existing CSV file\n",
    "#file_source = \"ga_results.xlsx\"\n",
    "\n",
    "#Read the existing CSV file\n",
    "df = pd.read_excel('ga_results_2.xlsx','Sheet1')\n",
    "\n",
    "#Insert\"Name\"into cell A1 to replace \"Customer\"\n",
    "df.iloc[iter_no-1,1] = float(max(best_fv))\n",
    "df.iloc[iter_no-1,2] = duration\n",
    "\n",
    "#Save the file\n",
    "df.to_excel('ga_results_2.xlsx', 'Sheet1', index=False)"
   ]
  }
 ],
 "metadata": {
  "celltoolbar": "Tags",
  "kernelspec": {
   "display_name": "Python 3 (ipykernel)",
   "language": "python",
   "name": "python3"
  },
  "language_info": {
   "codemirror_mode": {
    "name": "ipython",
    "version": 3
   },
   "file_extension": ".py",
   "mimetype": "text/x-python",
   "name": "python",
   "nbconvert_exporter": "python",
   "pygments_lexer": "ipython3",
   "version": "3.8.19"
  },
  "varInspector": {
   "cols": {
    "lenName": 16,
    "lenType": 16,
    "lenVar": 40
   },
   "kernels_config": {
    "python": {
     "delete_cmd_postfix": "",
     "delete_cmd_prefix": "del ",
     "library": "var_list.py",
     "varRefreshCmd": "print(var_dic_list())"
    },
    "r": {
     "delete_cmd_postfix": ") ",
     "delete_cmd_prefix": "rm(",
     "library": "var_list.r",
     "varRefreshCmd": "cat(var_dic_list()) "
    }
   },
   "position": {
    "height": "475.85px",
    "left": "1166px",
    "right": "20px",
    "top": "120px",
    "width": "350px"
   },
   "types_to_exclude": [
    "module",
    "function",
    "builtin_function_or_method",
    "instance",
    "_Feature"
   ],
   "window_display": false
  }
 },
 "nbformat": 4,
 "nbformat_minor": 5
}
